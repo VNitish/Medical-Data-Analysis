{
  "nbformat": 4,
  "nbformat_minor": 0,
  "metadata": {
    "colab": {
      "provenance": []
    },
    "kernelspec": {
      "name": "python3",
      "display_name": "Python 3"
    },
    "language_info": {
      "name": "python"
    }
  },
  "cells": [
    {
      "cell_type": "code",
      "execution_count": 1,
      "metadata": {
        "id": "73w9018rmqDV"
      },
      "outputs": [],
      "source": [
        "import pandas as pd"
      ]
    },
    {
      "cell_type": "code",
      "source": [
        "df = pd.read_csv(\"diabetic_data.csv\")"
      ],
      "metadata": {
        "id": "R0CtHlSdmyno"
      },
      "execution_count": 2,
      "outputs": []
    },
    {
      "cell_type": "code",
      "source": [
        "df.head()"
      ],
      "metadata": {
        "colab": {
          "base_uri": "https://localhost:8080/",
          "height": 359
        },
        "id": "RN-iT_Gcm61I",
        "outputId": "fe9b8c96-cc4d-4fc3-d90b-023665da2d67"
      },
      "execution_count": 3,
      "outputs": [
        {
          "output_type": "execute_result",
          "data": {
            "text/plain": [
              "   encounter_id  patient_nbr             race  gender      age weight  \\\n",
              "0       2278392      8222157        Caucasian  Female   [0-10)      ?   \n",
              "1        149190     55629189        Caucasian  Female  [10-20)      ?   \n",
              "2         64410     86047875  AfricanAmerican  Female  [20-30)      ?   \n",
              "3        500364     82442376        Caucasian    Male  [30-40)      ?   \n",
              "4         16680     42519267        Caucasian    Male  [40-50)      ?   \n",
              "\n",
              "   admission_type_id  discharge_disposition_id  admission_source_id  \\\n",
              "0                  6                        25                    1   \n",
              "1                  1                         1                    7   \n",
              "2                  1                         1                    7   \n",
              "3                  1                         1                    7   \n",
              "4                  1                         1                    7   \n",
              "\n",
              "   time_in_hospital  ... citoglipton insulin  glyburide-metformin  \\\n",
              "0                 1  ...          No      No                   No   \n",
              "1                 3  ...          No      Up                   No   \n",
              "2                 2  ...          No      No                   No   \n",
              "3                 2  ...          No      Up                   No   \n",
              "4                 1  ...          No  Steady                   No   \n",
              "\n",
              "   glipizide-metformin  glimepiride-pioglitazone  metformin-rosiglitazone  \\\n",
              "0                   No                        No                       No   \n",
              "1                   No                        No                       No   \n",
              "2                   No                        No                       No   \n",
              "3                   No                        No                       No   \n",
              "4                   No                        No                       No   \n",
              "\n",
              "   metformin-pioglitazone  change diabetesMed readmitted  \n",
              "0                      No      No          No         NO  \n",
              "1                      No      Ch         Yes        >30  \n",
              "2                      No      No         Yes         NO  \n",
              "3                      No      Ch         Yes         NO  \n",
              "4                      No      Ch         Yes         NO  \n",
              "\n",
              "[5 rows x 50 columns]"
            ],
            "text/html": [
              "\n",
              "  <div id=\"df-3e3e29ca-03b2-4e15-afbe-1420ebe94312\" class=\"colab-df-container\">\n",
              "    <div>\n",
              "<style scoped>\n",
              "    .dataframe tbody tr th:only-of-type {\n",
              "        vertical-align: middle;\n",
              "    }\n",
              "\n",
              "    .dataframe tbody tr th {\n",
              "        vertical-align: top;\n",
              "    }\n",
              "\n",
              "    .dataframe thead th {\n",
              "        text-align: right;\n",
              "    }\n",
              "</style>\n",
              "<table border=\"1\" class=\"dataframe\">\n",
              "  <thead>\n",
              "    <tr style=\"text-align: right;\">\n",
              "      <th></th>\n",
              "      <th>encounter_id</th>\n",
              "      <th>patient_nbr</th>\n",
              "      <th>race</th>\n",
              "      <th>gender</th>\n",
              "      <th>age</th>\n",
              "      <th>weight</th>\n",
              "      <th>admission_type_id</th>\n",
              "      <th>discharge_disposition_id</th>\n",
              "      <th>admission_source_id</th>\n",
              "      <th>time_in_hospital</th>\n",
              "      <th>...</th>\n",
              "      <th>citoglipton</th>\n",
              "      <th>insulin</th>\n",
              "      <th>glyburide-metformin</th>\n",
              "      <th>glipizide-metformin</th>\n",
              "      <th>glimepiride-pioglitazone</th>\n",
              "      <th>metformin-rosiglitazone</th>\n",
              "      <th>metformin-pioglitazone</th>\n",
              "      <th>change</th>\n",
              "      <th>diabetesMed</th>\n",
              "      <th>readmitted</th>\n",
              "    </tr>\n",
              "  </thead>\n",
              "  <tbody>\n",
              "    <tr>\n",
              "      <th>0</th>\n",
              "      <td>2278392</td>\n",
              "      <td>8222157</td>\n",
              "      <td>Caucasian</td>\n",
              "      <td>Female</td>\n",
              "      <td>[0-10)</td>\n",
              "      <td>?</td>\n",
              "      <td>6</td>\n",
              "      <td>25</td>\n",
              "      <td>1</td>\n",
              "      <td>1</td>\n",
              "      <td>...</td>\n",
              "      <td>No</td>\n",
              "      <td>No</td>\n",
              "      <td>No</td>\n",
              "      <td>No</td>\n",
              "      <td>No</td>\n",
              "      <td>No</td>\n",
              "      <td>No</td>\n",
              "      <td>No</td>\n",
              "      <td>No</td>\n",
              "      <td>NO</td>\n",
              "    </tr>\n",
              "    <tr>\n",
              "      <th>1</th>\n",
              "      <td>149190</td>\n",
              "      <td>55629189</td>\n",
              "      <td>Caucasian</td>\n",
              "      <td>Female</td>\n",
              "      <td>[10-20)</td>\n",
              "      <td>?</td>\n",
              "      <td>1</td>\n",
              "      <td>1</td>\n",
              "      <td>7</td>\n",
              "      <td>3</td>\n",
              "      <td>...</td>\n",
              "      <td>No</td>\n",
              "      <td>Up</td>\n",
              "      <td>No</td>\n",
              "      <td>No</td>\n",
              "      <td>No</td>\n",
              "      <td>No</td>\n",
              "      <td>No</td>\n",
              "      <td>Ch</td>\n",
              "      <td>Yes</td>\n",
              "      <td>&gt;30</td>\n",
              "    </tr>\n",
              "    <tr>\n",
              "      <th>2</th>\n",
              "      <td>64410</td>\n",
              "      <td>86047875</td>\n",
              "      <td>AfricanAmerican</td>\n",
              "      <td>Female</td>\n",
              "      <td>[20-30)</td>\n",
              "      <td>?</td>\n",
              "      <td>1</td>\n",
              "      <td>1</td>\n",
              "      <td>7</td>\n",
              "      <td>2</td>\n",
              "      <td>...</td>\n",
              "      <td>No</td>\n",
              "      <td>No</td>\n",
              "      <td>No</td>\n",
              "      <td>No</td>\n",
              "      <td>No</td>\n",
              "      <td>No</td>\n",
              "      <td>No</td>\n",
              "      <td>No</td>\n",
              "      <td>Yes</td>\n",
              "      <td>NO</td>\n",
              "    </tr>\n",
              "    <tr>\n",
              "      <th>3</th>\n",
              "      <td>500364</td>\n",
              "      <td>82442376</td>\n",
              "      <td>Caucasian</td>\n",
              "      <td>Male</td>\n",
              "      <td>[30-40)</td>\n",
              "      <td>?</td>\n",
              "      <td>1</td>\n",
              "      <td>1</td>\n",
              "      <td>7</td>\n",
              "      <td>2</td>\n",
              "      <td>...</td>\n",
              "      <td>No</td>\n",
              "      <td>Up</td>\n",
              "      <td>No</td>\n",
              "      <td>No</td>\n",
              "      <td>No</td>\n",
              "      <td>No</td>\n",
              "      <td>No</td>\n",
              "      <td>Ch</td>\n",
              "      <td>Yes</td>\n",
              "      <td>NO</td>\n",
              "    </tr>\n",
              "    <tr>\n",
              "      <th>4</th>\n",
              "      <td>16680</td>\n",
              "      <td>42519267</td>\n",
              "      <td>Caucasian</td>\n",
              "      <td>Male</td>\n",
              "      <td>[40-50)</td>\n",
              "      <td>?</td>\n",
              "      <td>1</td>\n",
              "      <td>1</td>\n",
              "      <td>7</td>\n",
              "      <td>1</td>\n",
              "      <td>...</td>\n",
              "      <td>No</td>\n",
              "      <td>Steady</td>\n",
              "      <td>No</td>\n",
              "      <td>No</td>\n",
              "      <td>No</td>\n",
              "      <td>No</td>\n",
              "      <td>No</td>\n",
              "      <td>Ch</td>\n",
              "      <td>Yes</td>\n",
              "      <td>NO</td>\n",
              "    </tr>\n",
              "  </tbody>\n",
              "</table>\n",
              "<p>5 rows × 50 columns</p>\n",
              "</div>\n",
              "    <div class=\"colab-df-buttons\">\n",
              "\n",
              "  <div class=\"colab-df-container\">\n",
              "    <button class=\"colab-df-convert\" onclick=\"convertToInteractive('df-3e3e29ca-03b2-4e15-afbe-1420ebe94312')\"\n",
              "            title=\"Convert this dataframe to an interactive table.\"\n",
              "            style=\"display:none;\">\n",
              "\n",
              "  <svg xmlns=\"http://www.w3.org/2000/svg\" height=\"24px\" viewBox=\"0 -960 960 960\">\n",
              "    <path d=\"M120-120v-720h720v720H120Zm60-500h600v-160H180v160Zm220 220h160v-160H400v160Zm0 220h160v-160H400v160ZM180-400h160v-160H180v160Zm440 0h160v-160H620v160ZM180-180h160v-160H180v160Zm440 0h160v-160H620v160Z\"/>\n",
              "  </svg>\n",
              "    </button>\n",
              "\n",
              "  <style>\n",
              "    .colab-df-container {\n",
              "      display:flex;\n",
              "      gap: 12px;\n",
              "    }\n",
              "\n",
              "    .colab-df-convert {\n",
              "      background-color: #E8F0FE;\n",
              "      border: none;\n",
              "      border-radius: 50%;\n",
              "      cursor: pointer;\n",
              "      display: none;\n",
              "      fill: #1967D2;\n",
              "      height: 32px;\n",
              "      padding: 0 0 0 0;\n",
              "      width: 32px;\n",
              "    }\n",
              "\n",
              "    .colab-df-convert:hover {\n",
              "      background-color: #E2EBFA;\n",
              "      box-shadow: 0px 1px 2px rgba(60, 64, 67, 0.3), 0px 1px 3px 1px rgba(60, 64, 67, 0.15);\n",
              "      fill: #174EA6;\n",
              "    }\n",
              "\n",
              "    .colab-df-buttons div {\n",
              "      margin-bottom: 4px;\n",
              "    }\n",
              "\n",
              "    [theme=dark] .colab-df-convert {\n",
              "      background-color: #3B4455;\n",
              "      fill: #D2E3FC;\n",
              "    }\n",
              "\n",
              "    [theme=dark] .colab-df-convert:hover {\n",
              "      background-color: #434B5C;\n",
              "      box-shadow: 0px 1px 3px 1px rgba(0, 0, 0, 0.15);\n",
              "      filter: drop-shadow(0px 1px 2px rgba(0, 0, 0, 0.3));\n",
              "      fill: #FFFFFF;\n",
              "    }\n",
              "  </style>\n",
              "\n",
              "    <script>\n",
              "      const buttonEl =\n",
              "        document.querySelector('#df-3e3e29ca-03b2-4e15-afbe-1420ebe94312 button.colab-df-convert');\n",
              "      buttonEl.style.display =\n",
              "        google.colab.kernel.accessAllowed ? 'block' : 'none';\n",
              "\n",
              "      async function convertToInteractive(key) {\n",
              "        const element = document.querySelector('#df-3e3e29ca-03b2-4e15-afbe-1420ebe94312');\n",
              "        const dataTable =\n",
              "          await google.colab.kernel.invokeFunction('convertToInteractive',\n",
              "                                                    [key], {});\n",
              "        if (!dataTable) return;\n",
              "\n",
              "        const docLinkHtml = 'Like what you see? Visit the ' +\n",
              "          '<a target=\"_blank\" href=https://colab.research.google.com/notebooks/data_table.ipynb>data table notebook</a>'\n",
              "          + ' to learn more about interactive tables.';\n",
              "        element.innerHTML = '';\n",
              "        dataTable['output_type'] = 'display_data';\n",
              "        await google.colab.output.renderOutput(dataTable, element);\n",
              "        const docLink = document.createElement('div');\n",
              "        docLink.innerHTML = docLinkHtml;\n",
              "        element.appendChild(docLink);\n",
              "      }\n",
              "    </script>\n",
              "  </div>\n",
              "\n",
              "\n",
              "    <div id=\"df-f130d962-49c9-47c8-9bd4-a0281a838e6f\">\n",
              "      <button class=\"colab-df-quickchart\" onclick=\"quickchart('df-f130d962-49c9-47c8-9bd4-a0281a838e6f')\"\n",
              "                title=\"Suggest charts\"\n",
              "                style=\"display:none;\">\n",
              "\n",
              "<svg xmlns=\"http://www.w3.org/2000/svg\" height=\"24px\"viewBox=\"0 0 24 24\"\n",
              "     width=\"24px\">\n",
              "    <g>\n",
              "        <path d=\"M19 3H5c-1.1 0-2 .9-2 2v14c0 1.1.9 2 2 2h14c1.1 0 2-.9 2-2V5c0-1.1-.9-2-2-2zM9 17H7v-7h2v7zm4 0h-2V7h2v10zm4 0h-2v-4h2v4z\"/>\n",
              "    </g>\n",
              "</svg>\n",
              "      </button>\n",
              "\n",
              "<style>\n",
              "  .colab-df-quickchart {\n",
              "      --bg-color: #E8F0FE;\n",
              "      --fill-color: #1967D2;\n",
              "      --hover-bg-color: #E2EBFA;\n",
              "      --hover-fill-color: #174EA6;\n",
              "      --disabled-fill-color: #AAA;\n",
              "      --disabled-bg-color: #DDD;\n",
              "  }\n",
              "\n",
              "  [theme=dark] .colab-df-quickchart {\n",
              "      --bg-color: #3B4455;\n",
              "      --fill-color: #D2E3FC;\n",
              "      --hover-bg-color: #434B5C;\n",
              "      --hover-fill-color: #FFFFFF;\n",
              "      --disabled-bg-color: #3B4455;\n",
              "      --disabled-fill-color: #666;\n",
              "  }\n",
              "\n",
              "  .colab-df-quickchart {\n",
              "    background-color: var(--bg-color);\n",
              "    border: none;\n",
              "    border-radius: 50%;\n",
              "    cursor: pointer;\n",
              "    display: none;\n",
              "    fill: var(--fill-color);\n",
              "    height: 32px;\n",
              "    padding: 0;\n",
              "    width: 32px;\n",
              "  }\n",
              "\n",
              "  .colab-df-quickchart:hover {\n",
              "    background-color: var(--hover-bg-color);\n",
              "    box-shadow: 0 1px 2px rgba(60, 64, 67, 0.3), 0 1px 3px 1px rgba(60, 64, 67, 0.15);\n",
              "    fill: var(--button-hover-fill-color);\n",
              "  }\n",
              "\n",
              "  .colab-df-quickchart-complete:disabled,\n",
              "  .colab-df-quickchart-complete:disabled:hover {\n",
              "    background-color: var(--disabled-bg-color);\n",
              "    fill: var(--disabled-fill-color);\n",
              "    box-shadow: none;\n",
              "  }\n",
              "\n",
              "  .colab-df-spinner {\n",
              "    border: 2px solid var(--fill-color);\n",
              "    border-color: transparent;\n",
              "    border-bottom-color: var(--fill-color);\n",
              "    animation:\n",
              "      spin 1s steps(1) infinite;\n",
              "  }\n",
              "\n",
              "  @keyframes spin {\n",
              "    0% {\n",
              "      border-color: transparent;\n",
              "      border-bottom-color: var(--fill-color);\n",
              "      border-left-color: var(--fill-color);\n",
              "    }\n",
              "    20% {\n",
              "      border-color: transparent;\n",
              "      border-left-color: var(--fill-color);\n",
              "      border-top-color: var(--fill-color);\n",
              "    }\n",
              "    30% {\n",
              "      border-color: transparent;\n",
              "      border-left-color: var(--fill-color);\n",
              "      border-top-color: var(--fill-color);\n",
              "      border-right-color: var(--fill-color);\n",
              "    }\n",
              "    40% {\n",
              "      border-color: transparent;\n",
              "      border-right-color: var(--fill-color);\n",
              "      border-top-color: var(--fill-color);\n",
              "    }\n",
              "    60% {\n",
              "      border-color: transparent;\n",
              "      border-right-color: var(--fill-color);\n",
              "    }\n",
              "    80% {\n",
              "      border-color: transparent;\n",
              "      border-right-color: var(--fill-color);\n",
              "      border-bottom-color: var(--fill-color);\n",
              "    }\n",
              "    90% {\n",
              "      border-color: transparent;\n",
              "      border-bottom-color: var(--fill-color);\n",
              "    }\n",
              "  }\n",
              "</style>\n",
              "\n",
              "      <script>\n",
              "        async function quickchart(key) {\n",
              "          const quickchartButtonEl =\n",
              "            document.querySelector('#' + key + ' button');\n",
              "          quickchartButtonEl.disabled = true;  // To prevent multiple clicks.\n",
              "          quickchartButtonEl.classList.add('colab-df-spinner');\n",
              "          try {\n",
              "            const charts = await google.colab.kernel.invokeFunction(\n",
              "                'suggestCharts', [key], {});\n",
              "          } catch (error) {\n",
              "            console.error('Error during call to suggestCharts:', error);\n",
              "          }\n",
              "          quickchartButtonEl.classList.remove('colab-df-spinner');\n",
              "          quickchartButtonEl.classList.add('colab-df-quickchart-complete');\n",
              "        }\n",
              "        (() => {\n",
              "          let quickchartButtonEl =\n",
              "            document.querySelector('#df-f130d962-49c9-47c8-9bd4-a0281a838e6f button');\n",
              "          quickchartButtonEl.style.display =\n",
              "            google.colab.kernel.accessAllowed ? 'block' : 'none';\n",
              "        })();\n",
              "      </script>\n",
              "    </div>\n",
              "\n",
              "    </div>\n",
              "  </div>\n"
            ],
            "application/vnd.google.colaboratory.intrinsic+json": {
              "type": "dataframe",
              "variable_name": "df"
            }
          },
          "metadata": {},
          "execution_count": 3
        }
      ]
    },
    {
      "cell_type": "code",
      "source": [
        "df.shape"
      ],
      "metadata": {
        "colab": {
          "base_uri": "https://localhost:8080/"
        },
        "id": "1tavlMC1_gAH",
        "outputId": "46365e21-8f5f-4325-95f7-c0a6707936a5"
      },
      "execution_count": 4,
      "outputs": [
        {
          "output_type": "execute_result",
          "data": {
            "text/plain": [
              "(101766, 50)"
            ]
          },
          "metadata": {},
          "execution_count": 4
        }
      ]
    },
    {
      "cell_type": "code",
      "source": [
        "df.columns"
      ],
      "metadata": {
        "colab": {
          "base_uri": "https://localhost:8080/"
        },
        "id": "nDkkdCbEm8Sl",
        "outputId": "9849cccb-723f-4b2d-f476-5bba6ef1dc9c"
      },
      "execution_count": 5,
      "outputs": [
        {
          "output_type": "execute_result",
          "data": {
            "text/plain": [
              "Index(['encounter_id', 'patient_nbr', 'race', 'gender', 'age', 'weight',\n",
              "       'admission_type_id', 'discharge_disposition_id', 'admission_source_id',\n",
              "       'time_in_hospital', 'payer_code', 'medical_specialty',\n",
              "       'num_lab_procedures', 'num_procedures', 'num_medications',\n",
              "       'number_outpatient', 'number_emergency', 'number_inpatient', 'diag_1',\n",
              "       'diag_2', 'diag_3', 'number_diagnoses', 'max_glu_serum', 'A1Cresult',\n",
              "       'metformin', 'repaglinide', 'nateglinide', 'chlorpropamide',\n",
              "       'glimepiride', 'acetohexamide', 'glipizide', 'glyburide', 'tolbutamide',\n",
              "       'pioglitazone', 'rosiglitazone', 'acarbose', 'miglitol', 'troglitazone',\n",
              "       'tolazamide', 'examide', 'citoglipton', 'insulin',\n",
              "       'glyburide-metformin', 'glipizide-metformin',\n",
              "       'glimepiride-pioglitazone', 'metformin-rosiglitazone',\n",
              "       'metformin-pioglitazone', 'change', 'diabetesMed', 'readmitted'],\n",
              "      dtype='object')"
            ]
          },
          "metadata": {},
          "execution_count": 5
        }
      ]
    },
    {
      "cell_type": "markdown",
      "source": [
        "- `encounter_id` and `patient_nbr` are ids and dont have any predictive power"
      ],
      "metadata": {
        "id": "q15CL1oO_k6m"
      }
    },
    {
      "cell_type": "code",
      "source": [
        "df.info()"
      ],
      "metadata": {
        "colab": {
          "base_uri": "https://localhost:8080/"
        },
        "id": "F3lOCmoKm_Lw",
        "outputId": "76c2d3a3-06c9-48fe-c080-473eb2bf1fa6"
      },
      "execution_count": 6,
      "outputs": [
        {
          "output_type": "stream",
          "name": "stdout",
          "text": [
            "<class 'pandas.core.frame.DataFrame'>\n",
            "RangeIndex: 101766 entries, 0 to 101765\n",
            "Data columns (total 50 columns):\n",
            " #   Column                    Non-Null Count   Dtype \n",
            "---  ------                    --------------   ----- \n",
            " 0   encounter_id              101766 non-null  int64 \n",
            " 1   patient_nbr               101766 non-null  int64 \n",
            " 2   race                      101766 non-null  object\n",
            " 3   gender                    101766 non-null  object\n",
            " 4   age                       101766 non-null  object\n",
            " 5   weight                    101766 non-null  object\n",
            " 6   admission_type_id         101766 non-null  int64 \n",
            " 7   discharge_disposition_id  101766 non-null  int64 \n",
            " 8   admission_source_id       101766 non-null  int64 \n",
            " 9   time_in_hospital          101766 non-null  int64 \n",
            " 10  payer_code                101766 non-null  object\n",
            " 11  medical_specialty         101766 non-null  object\n",
            " 12  num_lab_procedures        101766 non-null  int64 \n",
            " 13  num_procedures            101766 non-null  int64 \n",
            " 14  num_medications           101766 non-null  int64 \n",
            " 15  number_outpatient         101766 non-null  int64 \n",
            " 16  number_emergency          101766 non-null  int64 \n",
            " 17  number_inpatient          101766 non-null  int64 \n",
            " 18  diag_1                    101766 non-null  object\n",
            " 19  diag_2                    101766 non-null  object\n",
            " 20  diag_3                    101766 non-null  object\n",
            " 21  number_diagnoses          101766 non-null  int64 \n",
            " 22  max_glu_serum             5346 non-null    object\n",
            " 23  A1Cresult                 17018 non-null   object\n",
            " 24  metformin                 101766 non-null  object\n",
            " 25  repaglinide               101766 non-null  object\n",
            " 26  nateglinide               101766 non-null  object\n",
            " 27  chlorpropamide            101766 non-null  object\n",
            " 28  glimepiride               101766 non-null  object\n",
            " 29  acetohexamide             101766 non-null  object\n",
            " 30  glipizide                 101766 non-null  object\n",
            " 31  glyburide                 101766 non-null  object\n",
            " 32  tolbutamide               101766 non-null  object\n",
            " 33  pioglitazone              101766 non-null  object\n",
            " 34  rosiglitazone             101766 non-null  object\n",
            " 35  acarbose                  101766 non-null  object\n",
            " 36  miglitol                  101766 non-null  object\n",
            " 37  troglitazone              101766 non-null  object\n",
            " 38  tolazamide                101766 non-null  object\n",
            " 39  examide                   101766 non-null  object\n",
            " 40  citoglipton               101766 non-null  object\n",
            " 41  insulin                   101766 non-null  object\n",
            " 42  glyburide-metformin       101766 non-null  object\n",
            " 43  glipizide-metformin       101766 non-null  object\n",
            " 44  glimepiride-pioglitazone  101766 non-null  object\n",
            " 45  metformin-rosiglitazone   101766 non-null  object\n",
            " 46  metformin-pioglitazone    101766 non-null  object\n",
            " 47  change                    101766 non-null  object\n",
            " 48  diabetesMed               101766 non-null  object\n",
            " 49  readmitted                101766 non-null  object\n",
            "dtypes: int64(13), object(37)\n",
            "memory usage: 38.8+ MB\n"
          ]
        }
      ]
    },
    {
      "cell_type": "markdown",
      "source": [
        "- Lets look at max_glu_serum and A1Cresult.\n",
        "- max_glu_serum is maximum glucose serum test result during the hospital encounter.\n",
        "- A1Cresult is the most recent hemoglobin A1C test result during the encounter (A1C is a measure of average blood sugar over the past 2–3 months).\n",
        "- The presence or absence of a test (i.e., \"None\") may itself be predictive."
      ],
      "metadata": {
        "id": "ieN2d76V_2l-"
      }
    },
    {
      "cell_type": "code",
      "source": [
        "df['max_glu_serum'].value_counts()"
      ],
      "metadata": {
        "colab": {
          "base_uri": "https://localhost:8080/",
          "height": 209
        },
        "id": "rS-V2Tw9nCSL",
        "outputId": "21ae1694-9085-4922-c2d3-04456d009898"
      },
      "execution_count": 7,
      "outputs": [
        {
          "output_type": "execute_result",
          "data": {
            "text/plain": [
              "max_glu_serum\n",
              "Norm    2597\n",
              ">200    1485\n",
              ">300    1264\n",
              "Name: count, dtype: int64"
            ],
            "text/html": [
              "<div>\n",
              "<style scoped>\n",
              "    .dataframe tbody tr th:only-of-type {\n",
              "        vertical-align: middle;\n",
              "    }\n",
              "\n",
              "    .dataframe tbody tr th {\n",
              "        vertical-align: top;\n",
              "    }\n",
              "\n",
              "    .dataframe thead th {\n",
              "        text-align: right;\n",
              "    }\n",
              "</style>\n",
              "<table border=\"1\" class=\"dataframe\">\n",
              "  <thead>\n",
              "    <tr style=\"text-align: right;\">\n",
              "      <th></th>\n",
              "      <th>count</th>\n",
              "    </tr>\n",
              "    <tr>\n",
              "      <th>max_glu_serum</th>\n",
              "      <th></th>\n",
              "    </tr>\n",
              "  </thead>\n",
              "  <tbody>\n",
              "    <tr>\n",
              "      <th>Norm</th>\n",
              "      <td>2597</td>\n",
              "    </tr>\n",
              "    <tr>\n",
              "      <th>&gt;200</th>\n",
              "      <td>1485</td>\n",
              "    </tr>\n",
              "    <tr>\n",
              "      <th>&gt;300</th>\n",
              "      <td>1264</td>\n",
              "    </tr>\n",
              "  </tbody>\n",
              "</table>\n",
              "</div><br><label><b>dtype:</b> int64</label>"
            ]
          },
          "metadata": {},
          "execution_count": 7
        }
      ]
    },
    {
      "cell_type": "code",
      "source": [
        "df['A1Cresult'].value_counts()"
      ],
      "metadata": {
        "colab": {
          "base_uri": "https://localhost:8080/",
          "height": 209
        },
        "id": "0VfEI-EyAIU-",
        "outputId": "393a09d7-d87f-43d1-89c0-6fb3e954e516"
      },
      "execution_count": 8,
      "outputs": [
        {
          "output_type": "execute_result",
          "data": {
            "text/plain": [
              "A1Cresult\n",
              ">8      8216\n",
              "Norm    4990\n",
              ">7      3812\n",
              "Name: count, dtype: int64"
            ],
            "text/html": [
              "<div>\n",
              "<style scoped>\n",
              "    .dataframe tbody tr th:only-of-type {\n",
              "        vertical-align: middle;\n",
              "    }\n",
              "\n",
              "    .dataframe tbody tr th {\n",
              "        vertical-align: top;\n",
              "    }\n",
              "\n",
              "    .dataframe thead th {\n",
              "        text-align: right;\n",
              "    }\n",
              "</style>\n",
              "<table border=\"1\" class=\"dataframe\">\n",
              "  <thead>\n",
              "    <tr style=\"text-align: right;\">\n",
              "      <th></th>\n",
              "      <th>count</th>\n",
              "    </tr>\n",
              "    <tr>\n",
              "      <th>A1Cresult</th>\n",
              "      <th></th>\n",
              "    </tr>\n",
              "  </thead>\n",
              "  <tbody>\n",
              "    <tr>\n",
              "      <th>&gt;8</th>\n",
              "      <td>8216</td>\n",
              "    </tr>\n",
              "    <tr>\n",
              "      <th>Norm</th>\n",
              "      <td>4990</td>\n",
              "    </tr>\n",
              "    <tr>\n",
              "      <th>&gt;7</th>\n",
              "      <td>3812</td>\n",
              "    </tr>\n",
              "  </tbody>\n",
              "</table>\n",
              "</div><br><label><b>dtype:</b> int64</label>"
            ]
          },
          "metadata": {},
          "execution_count": 8
        }
      ]
    },
    {
      "cell_type": "code",
      "source": [
        "# Fill actual missing values (NaN) with 'No Information'\n",
        "df['max_glu_serum'] = df['max_glu_serum'].fillna('No Information')\n",
        "df['A1Cresult'] = df['A1Cresult'].fillna('No Information')"
      ],
      "metadata": {
        "id": "xLRYwnFWOOQo"
      },
      "execution_count": 9,
      "outputs": []
    },
    {
      "cell_type": "code",
      "source": [
        "df['readmitted'].value_counts()"
      ],
      "metadata": {
        "colab": {
          "base_uri": "https://localhost:8080/",
          "height": 209
        },
        "id": "M0GWy0gs037D",
        "outputId": "e660ea2f-63ae-444b-a402-f24790ae09c5"
      },
      "execution_count": null,
      "outputs": [
        {
          "output_type": "execute_result",
          "data": {
            "text/plain": [
              "readmitted\n",
              "NO     54864\n",
              ">30    35545\n",
              "<30    11357\n",
              "Name: count, dtype: int64"
            ],
            "text/html": [
              "<div>\n",
              "<style scoped>\n",
              "    .dataframe tbody tr th:only-of-type {\n",
              "        vertical-align: middle;\n",
              "    }\n",
              "\n",
              "    .dataframe tbody tr th {\n",
              "        vertical-align: top;\n",
              "    }\n",
              "\n",
              "    .dataframe thead th {\n",
              "        text-align: right;\n",
              "    }\n",
              "</style>\n",
              "<table border=\"1\" class=\"dataframe\">\n",
              "  <thead>\n",
              "    <tr style=\"text-align: right;\">\n",
              "      <th></th>\n",
              "      <th>count</th>\n",
              "    </tr>\n",
              "    <tr>\n",
              "      <th>readmitted</th>\n",
              "      <th></th>\n",
              "    </tr>\n",
              "  </thead>\n",
              "  <tbody>\n",
              "    <tr>\n",
              "      <th>NO</th>\n",
              "      <td>54864</td>\n",
              "    </tr>\n",
              "    <tr>\n",
              "      <th>&gt;30</th>\n",
              "      <td>35545</td>\n",
              "    </tr>\n",
              "    <tr>\n",
              "      <th>&lt;30</th>\n",
              "      <td>11357</td>\n",
              "    </tr>\n",
              "  </tbody>\n",
              "</table>\n",
              "</div><br><label><b>dtype:</b> int64</label>"
            ]
          },
          "metadata": {},
          "execution_count": 13
        }
      ]
    },
    {
      "cell_type": "markdown",
      "source": [
        "- Dataset is imbalanced, with a 10:90 ratio between the minority and majority classes. To ensure that both classes are appropriately represented in our train-test splits, it is important to use stratified sampling in the modeling process"
      ],
      "metadata": {
        "id": "_efgjHC1BA3X"
      }
    },
    {
      "cell_type": "code",
      "source": [
        "df['race'].value_counts()"
      ],
      "metadata": {
        "colab": {
          "base_uri": "https://localhost:8080/",
          "height": 303
        },
        "id": "PHrbCXjOBL6W",
        "outputId": "fc90af4d-6952-48d6-9023-a1f850ab0f29"
      },
      "execution_count": 10,
      "outputs": [
        {
          "output_type": "execute_result",
          "data": {
            "text/plain": [
              "race\n",
              "Caucasian          76099\n",
              "AfricanAmerican    19210\n",
              "?                   2273\n",
              "Hispanic            2037\n",
              "Other               1506\n",
              "Asian                641\n",
              "Name: count, dtype: int64"
            ],
            "text/html": [
              "<div>\n",
              "<style scoped>\n",
              "    .dataframe tbody tr th:only-of-type {\n",
              "        vertical-align: middle;\n",
              "    }\n",
              "\n",
              "    .dataframe tbody tr th {\n",
              "        vertical-align: top;\n",
              "    }\n",
              "\n",
              "    .dataframe thead th {\n",
              "        text-align: right;\n",
              "    }\n",
              "</style>\n",
              "<table border=\"1\" class=\"dataframe\">\n",
              "  <thead>\n",
              "    <tr style=\"text-align: right;\">\n",
              "      <th></th>\n",
              "      <th>count</th>\n",
              "    </tr>\n",
              "    <tr>\n",
              "      <th>race</th>\n",
              "      <th></th>\n",
              "    </tr>\n",
              "  </thead>\n",
              "  <tbody>\n",
              "    <tr>\n",
              "      <th>Caucasian</th>\n",
              "      <td>76099</td>\n",
              "    </tr>\n",
              "    <tr>\n",
              "      <th>AfricanAmerican</th>\n",
              "      <td>19210</td>\n",
              "    </tr>\n",
              "    <tr>\n",
              "      <th>?</th>\n",
              "      <td>2273</td>\n",
              "    </tr>\n",
              "    <tr>\n",
              "      <th>Hispanic</th>\n",
              "      <td>2037</td>\n",
              "    </tr>\n",
              "    <tr>\n",
              "      <th>Other</th>\n",
              "      <td>1506</td>\n",
              "    </tr>\n",
              "    <tr>\n",
              "      <th>Asian</th>\n",
              "      <td>641</td>\n",
              "    </tr>\n",
              "  </tbody>\n",
              "</table>\n",
              "</div><br><label><b>dtype:</b> int64</label>"
            ]
          },
          "metadata": {},
          "execution_count": 10
        }
      ]
    },
    {
      "cell_type": "markdown",
      "source": [
        "- Approximately 2.2% of the values are missing or marked as “?” in the dataset.\n",
        "\n",
        "- Since this proportion is relatively low, it is better to treat “?” as a separate category labeled “Unknown” rather than dropping those rows.\n",
        "\n",
        "- Additionally, race may be an important predictor in clinical datasets and should be retained for analysis."
      ],
      "metadata": {
        "id": "T_YcTAVrCl6g"
      }
    },
    {
      "cell_type": "code",
      "source": [
        "df['race'] = df['race'].replace('?', 'Unknown')"
      ],
      "metadata": {
        "id": "lOdfORvVOehY"
      },
      "execution_count": 11,
      "outputs": []
    },
    {
      "cell_type": "code",
      "source": [
        "df['gender'].value_counts()"
      ],
      "metadata": {
        "colab": {
          "base_uri": "https://localhost:8080/",
          "height": 209
        },
        "id": "y8snaj0SBlVG",
        "outputId": "b4d28870-d68e-4029-be19-ecf29045fca2"
      },
      "execution_count": 12,
      "outputs": [
        {
          "output_type": "execute_result",
          "data": {
            "text/plain": [
              "gender\n",
              "Female             54708\n",
              "Male               47055\n",
              "Unknown/Invalid        3\n",
              "Name: count, dtype: int64"
            ],
            "text/html": [
              "<div>\n",
              "<style scoped>\n",
              "    .dataframe tbody tr th:only-of-type {\n",
              "        vertical-align: middle;\n",
              "    }\n",
              "\n",
              "    .dataframe tbody tr th {\n",
              "        vertical-align: top;\n",
              "    }\n",
              "\n",
              "    .dataframe thead th {\n",
              "        text-align: right;\n",
              "    }\n",
              "</style>\n",
              "<table border=\"1\" class=\"dataframe\">\n",
              "  <thead>\n",
              "    <tr style=\"text-align: right;\">\n",
              "      <th></th>\n",
              "      <th>count</th>\n",
              "    </tr>\n",
              "    <tr>\n",
              "      <th>gender</th>\n",
              "      <th></th>\n",
              "    </tr>\n",
              "  </thead>\n",
              "  <tbody>\n",
              "    <tr>\n",
              "      <th>Female</th>\n",
              "      <td>54708</td>\n",
              "    </tr>\n",
              "    <tr>\n",
              "      <th>Male</th>\n",
              "      <td>47055</td>\n",
              "    </tr>\n",
              "    <tr>\n",
              "      <th>Unknown/Invalid</th>\n",
              "      <td>3</td>\n",
              "    </tr>\n",
              "  </tbody>\n",
              "</table>\n",
              "</div><br><label><b>dtype:</b> int64</label>"
            ]
          },
          "metadata": {},
          "execution_count": 12
        }
      ]
    },
    {
      "cell_type": "code",
      "source": [
        "# Display the 3 rows where gender is 'Unknown/Invalid'\n",
        "unknown_gender_rows = df[df['gender'] == 'Unknown/Invalid']\n",
        "unknown_gender_rows"
      ],
      "metadata": {
        "colab": {
          "base_uri": "https://localhost:8080/",
          "height": 262
        },
        "id": "dXRZ4XqKDQCP",
        "outputId": "16e7913e-ec46-47d8-940c-1a5a95e5a5f5"
      },
      "execution_count": 13,
      "outputs": [
        {
          "output_type": "execute_result",
          "data": {
            "text/plain": [
              "       encounter_id  patient_nbr     race           gender      age weight  \\\n",
              "30506      98634858    100695042    Other  Unknown/Invalid  [70-80)      ?   \n",
              "75551     226864668     60524946  Unknown  Unknown/Invalid  [60-70)      ?   \n",
              "82573     257364294     78119847  Unknown  Unknown/Invalid  [70-80)      ?   \n",
              "\n",
              "       admission_type_id  discharge_disposition_id  admission_source_id  \\\n",
              "30506                  3                         1                    1   \n",
              "75551                  1                         1                    7   \n",
              "82573                  1                        22                    7   \n",
              "\n",
              "       time_in_hospital  ... citoglipton insulin  glyburide-metformin  \\\n",
              "30506                 1  ...          No      No                   No   \n",
              "75551                 1  ...          No      No                   No   \n",
              "82573                 8  ...          No      No                   No   \n",
              "\n",
              "       glipizide-metformin  glimepiride-pioglitazone  metformin-rosiglitazone  \\\n",
              "30506                   No                        No                       No   \n",
              "75551                   No                        No                       No   \n",
              "82573                   No                        No                       No   \n",
              "\n",
              "       metformin-pioglitazone  change diabetesMed readmitted  \n",
              "30506                      No      Ch         Yes         NO  \n",
              "75551                      No      No          No         NO  \n",
              "82573                      No      Ch         Yes         NO  \n",
              "\n",
              "[3 rows x 50 columns]"
            ],
            "text/html": [
              "\n",
              "  <div id=\"df-b2b95603-f439-4752-ad4e-e8d66f32f486\" class=\"colab-df-container\">\n",
              "    <div>\n",
              "<style scoped>\n",
              "    .dataframe tbody tr th:only-of-type {\n",
              "        vertical-align: middle;\n",
              "    }\n",
              "\n",
              "    .dataframe tbody tr th {\n",
              "        vertical-align: top;\n",
              "    }\n",
              "\n",
              "    .dataframe thead th {\n",
              "        text-align: right;\n",
              "    }\n",
              "</style>\n",
              "<table border=\"1\" class=\"dataframe\">\n",
              "  <thead>\n",
              "    <tr style=\"text-align: right;\">\n",
              "      <th></th>\n",
              "      <th>encounter_id</th>\n",
              "      <th>patient_nbr</th>\n",
              "      <th>race</th>\n",
              "      <th>gender</th>\n",
              "      <th>age</th>\n",
              "      <th>weight</th>\n",
              "      <th>admission_type_id</th>\n",
              "      <th>discharge_disposition_id</th>\n",
              "      <th>admission_source_id</th>\n",
              "      <th>time_in_hospital</th>\n",
              "      <th>...</th>\n",
              "      <th>citoglipton</th>\n",
              "      <th>insulin</th>\n",
              "      <th>glyburide-metformin</th>\n",
              "      <th>glipizide-metformin</th>\n",
              "      <th>glimepiride-pioglitazone</th>\n",
              "      <th>metformin-rosiglitazone</th>\n",
              "      <th>metformin-pioglitazone</th>\n",
              "      <th>change</th>\n",
              "      <th>diabetesMed</th>\n",
              "      <th>readmitted</th>\n",
              "    </tr>\n",
              "  </thead>\n",
              "  <tbody>\n",
              "    <tr>\n",
              "      <th>30506</th>\n",
              "      <td>98634858</td>\n",
              "      <td>100695042</td>\n",
              "      <td>Other</td>\n",
              "      <td>Unknown/Invalid</td>\n",
              "      <td>[70-80)</td>\n",
              "      <td>?</td>\n",
              "      <td>3</td>\n",
              "      <td>1</td>\n",
              "      <td>1</td>\n",
              "      <td>1</td>\n",
              "      <td>...</td>\n",
              "      <td>No</td>\n",
              "      <td>No</td>\n",
              "      <td>No</td>\n",
              "      <td>No</td>\n",
              "      <td>No</td>\n",
              "      <td>No</td>\n",
              "      <td>No</td>\n",
              "      <td>Ch</td>\n",
              "      <td>Yes</td>\n",
              "      <td>NO</td>\n",
              "    </tr>\n",
              "    <tr>\n",
              "      <th>75551</th>\n",
              "      <td>226864668</td>\n",
              "      <td>60524946</td>\n",
              "      <td>Unknown</td>\n",
              "      <td>Unknown/Invalid</td>\n",
              "      <td>[60-70)</td>\n",
              "      <td>?</td>\n",
              "      <td>1</td>\n",
              "      <td>1</td>\n",
              "      <td>7</td>\n",
              "      <td>1</td>\n",
              "      <td>...</td>\n",
              "      <td>No</td>\n",
              "      <td>No</td>\n",
              "      <td>No</td>\n",
              "      <td>No</td>\n",
              "      <td>No</td>\n",
              "      <td>No</td>\n",
              "      <td>No</td>\n",
              "      <td>No</td>\n",
              "      <td>No</td>\n",
              "      <td>NO</td>\n",
              "    </tr>\n",
              "    <tr>\n",
              "      <th>82573</th>\n",
              "      <td>257364294</td>\n",
              "      <td>78119847</td>\n",
              "      <td>Unknown</td>\n",
              "      <td>Unknown/Invalid</td>\n",
              "      <td>[70-80)</td>\n",
              "      <td>?</td>\n",
              "      <td>1</td>\n",
              "      <td>22</td>\n",
              "      <td>7</td>\n",
              "      <td>8</td>\n",
              "      <td>...</td>\n",
              "      <td>No</td>\n",
              "      <td>No</td>\n",
              "      <td>No</td>\n",
              "      <td>No</td>\n",
              "      <td>No</td>\n",
              "      <td>No</td>\n",
              "      <td>No</td>\n",
              "      <td>Ch</td>\n",
              "      <td>Yes</td>\n",
              "      <td>NO</td>\n",
              "    </tr>\n",
              "  </tbody>\n",
              "</table>\n",
              "<p>3 rows × 50 columns</p>\n",
              "</div>\n",
              "    <div class=\"colab-df-buttons\">\n",
              "\n",
              "  <div class=\"colab-df-container\">\n",
              "    <button class=\"colab-df-convert\" onclick=\"convertToInteractive('df-b2b95603-f439-4752-ad4e-e8d66f32f486')\"\n",
              "            title=\"Convert this dataframe to an interactive table.\"\n",
              "            style=\"display:none;\">\n",
              "\n",
              "  <svg xmlns=\"http://www.w3.org/2000/svg\" height=\"24px\" viewBox=\"0 -960 960 960\">\n",
              "    <path d=\"M120-120v-720h720v720H120Zm60-500h600v-160H180v160Zm220 220h160v-160H400v160Zm0 220h160v-160H400v160ZM180-400h160v-160H180v160Zm440 0h160v-160H620v160ZM180-180h160v-160H180v160Zm440 0h160v-160H620v160Z\"/>\n",
              "  </svg>\n",
              "    </button>\n",
              "\n",
              "  <style>\n",
              "    .colab-df-container {\n",
              "      display:flex;\n",
              "      gap: 12px;\n",
              "    }\n",
              "\n",
              "    .colab-df-convert {\n",
              "      background-color: #E8F0FE;\n",
              "      border: none;\n",
              "      border-radius: 50%;\n",
              "      cursor: pointer;\n",
              "      display: none;\n",
              "      fill: #1967D2;\n",
              "      height: 32px;\n",
              "      padding: 0 0 0 0;\n",
              "      width: 32px;\n",
              "    }\n",
              "\n",
              "    .colab-df-convert:hover {\n",
              "      background-color: #E2EBFA;\n",
              "      box-shadow: 0px 1px 2px rgba(60, 64, 67, 0.3), 0px 1px 3px 1px rgba(60, 64, 67, 0.15);\n",
              "      fill: #174EA6;\n",
              "    }\n",
              "\n",
              "    .colab-df-buttons div {\n",
              "      margin-bottom: 4px;\n",
              "    }\n",
              "\n",
              "    [theme=dark] .colab-df-convert {\n",
              "      background-color: #3B4455;\n",
              "      fill: #D2E3FC;\n",
              "    }\n",
              "\n",
              "    [theme=dark] .colab-df-convert:hover {\n",
              "      background-color: #434B5C;\n",
              "      box-shadow: 0px 1px 3px 1px rgba(0, 0, 0, 0.15);\n",
              "      filter: drop-shadow(0px 1px 2px rgba(0, 0, 0, 0.3));\n",
              "      fill: #FFFFFF;\n",
              "    }\n",
              "  </style>\n",
              "\n",
              "    <script>\n",
              "      const buttonEl =\n",
              "        document.querySelector('#df-b2b95603-f439-4752-ad4e-e8d66f32f486 button.colab-df-convert');\n",
              "      buttonEl.style.display =\n",
              "        google.colab.kernel.accessAllowed ? 'block' : 'none';\n",
              "\n",
              "      async function convertToInteractive(key) {\n",
              "        const element = document.querySelector('#df-b2b95603-f439-4752-ad4e-e8d66f32f486');\n",
              "        const dataTable =\n",
              "          await google.colab.kernel.invokeFunction('convertToInteractive',\n",
              "                                                    [key], {});\n",
              "        if (!dataTable) return;\n",
              "\n",
              "        const docLinkHtml = 'Like what you see? Visit the ' +\n",
              "          '<a target=\"_blank\" href=https://colab.research.google.com/notebooks/data_table.ipynb>data table notebook</a>'\n",
              "          + ' to learn more about interactive tables.';\n",
              "        element.innerHTML = '';\n",
              "        dataTable['output_type'] = 'display_data';\n",
              "        await google.colab.output.renderOutput(dataTable, element);\n",
              "        const docLink = document.createElement('div');\n",
              "        docLink.innerHTML = docLinkHtml;\n",
              "        element.appendChild(docLink);\n",
              "      }\n",
              "    </script>\n",
              "  </div>\n",
              "\n",
              "\n",
              "    <div id=\"df-f82c8854-405e-4033-8f15-3d119811c7bc\">\n",
              "      <button class=\"colab-df-quickchart\" onclick=\"quickchart('df-f82c8854-405e-4033-8f15-3d119811c7bc')\"\n",
              "                title=\"Suggest charts\"\n",
              "                style=\"display:none;\">\n",
              "\n",
              "<svg xmlns=\"http://www.w3.org/2000/svg\" height=\"24px\"viewBox=\"0 0 24 24\"\n",
              "     width=\"24px\">\n",
              "    <g>\n",
              "        <path d=\"M19 3H5c-1.1 0-2 .9-2 2v14c0 1.1.9 2 2 2h14c1.1 0 2-.9 2-2V5c0-1.1-.9-2-2-2zM9 17H7v-7h2v7zm4 0h-2V7h2v10zm4 0h-2v-4h2v4z\"/>\n",
              "    </g>\n",
              "</svg>\n",
              "      </button>\n",
              "\n",
              "<style>\n",
              "  .colab-df-quickchart {\n",
              "      --bg-color: #E8F0FE;\n",
              "      --fill-color: #1967D2;\n",
              "      --hover-bg-color: #E2EBFA;\n",
              "      --hover-fill-color: #174EA6;\n",
              "      --disabled-fill-color: #AAA;\n",
              "      --disabled-bg-color: #DDD;\n",
              "  }\n",
              "\n",
              "  [theme=dark] .colab-df-quickchart {\n",
              "      --bg-color: #3B4455;\n",
              "      --fill-color: #D2E3FC;\n",
              "      --hover-bg-color: #434B5C;\n",
              "      --hover-fill-color: #FFFFFF;\n",
              "      --disabled-bg-color: #3B4455;\n",
              "      --disabled-fill-color: #666;\n",
              "  }\n",
              "\n",
              "  .colab-df-quickchart {\n",
              "    background-color: var(--bg-color);\n",
              "    border: none;\n",
              "    border-radius: 50%;\n",
              "    cursor: pointer;\n",
              "    display: none;\n",
              "    fill: var(--fill-color);\n",
              "    height: 32px;\n",
              "    padding: 0;\n",
              "    width: 32px;\n",
              "  }\n",
              "\n",
              "  .colab-df-quickchart:hover {\n",
              "    background-color: var(--hover-bg-color);\n",
              "    box-shadow: 0 1px 2px rgba(60, 64, 67, 0.3), 0 1px 3px 1px rgba(60, 64, 67, 0.15);\n",
              "    fill: var(--button-hover-fill-color);\n",
              "  }\n",
              "\n",
              "  .colab-df-quickchart-complete:disabled,\n",
              "  .colab-df-quickchart-complete:disabled:hover {\n",
              "    background-color: var(--disabled-bg-color);\n",
              "    fill: var(--disabled-fill-color);\n",
              "    box-shadow: none;\n",
              "  }\n",
              "\n",
              "  .colab-df-spinner {\n",
              "    border: 2px solid var(--fill-color);\n",
              "    border-color: transparent;\n",
              "    border-bottom-color: var(--fill-color);\n",
              "    animation:\n",
              "      spin 1s steps(1) infinite;\n",
              "  }\n",
              "\n",
              "  @keyframes spin {\n",
              "    0% {\n",
              "      border-color: transparent;\n",
              "      border-bottom-color: var(--fill-color);\n",
              "      border-left-color: var(--fill-color);\n",
              "    }\n",
              "    20% {\n",
              "      border-color: transparent;\n",
              "      border-left-color: var(--fill-color);\n",
              "      border-top-color: var(--fill-color);\n",
              "    }\n",
              "    30% {\n",
              "      border-color: transparent;\n",
              "      border-left-color: var(--fill-color);\n",
              "      border-top-color: var(--fill-color);\n",
              "      border-right-color: var(--fill-color);\n",
              "    }\n",
              "    40% {\n",
              "      border-color: transparent;\n",
              "      border-right-color: var(--fill-color);\n",
              "      border-top-color: var(--fill-color);\n",
              "    }\n",
              "    60% {\n",
              "      border-color: transparent;\n",
              "      border-right-color: var(--fill-color);\n",
              "    }\n",
              "    80% {\n",
              "      border-color: transparent;\n",
              "      border-right-color: var(--fill-color);\n",
              "      border-bottom-color: var(--fill-color);\n",
              "    }\n",
              "    90% {\n",
              "      border-color: transparent;\n",
              "      border-bottom-color: var(--fill-color);\n",
              "    }\n",
              "  }\n",
              "</style>\n",
              "\n",
              "      <script>\n",
              "        async function quickchart(key) {\n",
              "          const quickchartButtonEl =\n",
              "            document.querySelector('#' + key + ' button');\n",
              "          quickchartButtonEl.disabled = true;  // To prevent multiple clicks.\n",
              "          quickchartButtonEl.classList.add('colab-df-spinner');\n",
              "          try {\n",
              "            const charts = await google.colab.kernel.invokeFunction(\n",
              "                'suggestCharts', [key], {});\n",
              "          } catch (error) {\n",
              "            console.error('Error during call to suggestCharts:', error);\n",
              "          }\n",
              "          quickchartButtonEl.classList.remove('colab-df-spinner');\n",
              "          quickchartButtonEl.classList.add('colab-df-quickchart-complete');\n",
              "        }\n",
              "        (() => {\n",
              "          let quickchartButtonEl =\n",
              "            document.querySelector('#df-f82c8854-405e-4033-8f15-3d119811c7bc button');\n",
              "          quickchartButtonEl.style.display =\n",
              "            google.colab.kernel.accessAllowed ? 'block' : 'none';\n",
              "        })();\n",
              "      </script>\n",
              "    </div>\n",
              "\n",
              "  <div id=\"id_cce34f6f-3908-4d56-81f7-9a59e661e30b\">\n",
              "    <style>\n",
              "      .colab-df-generate {\n",
              "        background-color: #E8F0FE;\n",
              "        border: none;\n",
              "        border-radius: 50%;\n",
              "        cursor: pointer;\n",
              "        display: none;\n",
              "        fill: #1967D2;\n",
              "        height: 32px;\n",
              "        padding: 0 0 0 0;\n",
              "        width: 32px;\n",
              "      }\n",
              "\n",
              "      .colab-df-generate:hover {\n",
              "        background-color: #E2EBFA;\n",
              "        box-shadow: 0px 1px 2px rgba(60, 64, 67, 0.3), 0px 1px 3px 1px rgba(60, 64, 67, 0.15);\n",
              "        fill: #174EA6;\n",
              "      }\n",
              "\n",
              "      [theme=dark] .colab-df-generate {\n",
              "        background-color: #3B4455;\n",
              "        fill: #D2E3FC;\n",
              "      }\n",
              "\n",
              "      [theme=dark] .colab-df-generate:hover {\n",
              "        background-color: #434B5C;\n",
              "        box-shadow: 0px 1px 3px 1px rgba(0, 0, 0, 0.15);\n",
              "        filter: drop-shadow(0px 1px 2px rgba(0, 0, 0, 0.3));\n",
              "        fill: #FFFFFF;\n",
              "      }\n",
              "    </style>\n",
              "    <button class=\"colab-df-generate\" onclick=\"generateWithVariable('unknown_gender_rows')\"\n",
              "            title=\"Generate code using this dataframe.\"\n",
              "            style=\"display:none;\">\n",
              "\n",
              "  <svg xmlns=\"http://www.w3.org/2000/svg\" height=\"24px\"viewBox=\"0 0 24 24\"\n",
              "       width=\"24px\">\n",
              "    <path d=\"M7,19H8.4L18.45,9,17,7.55,7,17.6ZM5,21V16.75L18.45,3.32a2,2,0,0,1,2.83,0l1.4,1.43a1.91,1.91,0,0,1,.58,1.4,1.91,1.91,0,0,1-.58,1.4L9.25,21ZM18.45,9,17,7.55Zm-12,3A5.31,5.31,0,0,0,4.9,8.1,5.31,5.31,0,0,0,1,6.5,5.31,5.31,0,0,0,4.9,4.9,5.31,5.31,0,0,0,6.5,1,5.31,5.31,0,0,0,8.1,4.9,5.31,5.31,0,0,0,12,6.5,5.46,5.46,0,0,0,6.5,12Z\"/>\n",
              "  </svg>\n",
              "    </button>\n",
              "    <script>\n",
              "      (() => {\n",
              "      const buttonEl =\n",
              "        document.querySelector('#id_cce34f6f-3908-4d56-81f7-9a59e661e30b button.colab-df-generate');\n",
              "      buttonEl.style.display =\n",
              "        google.colab.kernel.accessAllowed ? 'block' : 'none';\n",
              "\n",
              "      buttonEl.onclick = () => {\n",
              "        google.colab.notebook.generateWithVariable('unknown_gender_rows');\n",
              "      }\n",
              "      })();\n",
              "    </script>\n",
              "  </div>\n",
              "\n",
              "    </div>\n",
              "  </div>\n"
            ],
            "application/vnd.google.colaboratory.intrinsic+json": {
              "type": "dataframe",
              "variable_name": "unknown_gender_rows"
            }
          },
          "metadata": {},
          "execution_count": 13
        }
      ]
    },
    {
      "cell_type": "markdown",
      "source": [
        "- Only 3 entries are \"Unknown/Invalid\" out of ~100,000+\n",
        "- Let's drop these 3 rows (since it’s such a tiny fraction and belong to Major class, it won’t affect your data)"
      ],
      "metadata": {
        "id": "uxsF7UbqDKmo"
      }
    },
    {
      "cell_type": "code",
      "source": [
        "# Drop rows where gender is 'Unknown/Invalid'\n",
        "df = df[df['gender'] != 'Unknown/Invalid']"
      ],
      "metadata": {
        "id": "5p0o-ScSDJCu"
      },
      "execution_count": 14,
      "outputs": []
    },
    {
      "cell_type": "code",
      "source": [
        "df['age'].value_counts()"
      ],
      "metadata": {
        "colab": {
          "base_uri": "https://localhost:8080/",
          "height": 429
        },
        "id": "YGSfL1GVBlIe",
        "outputId": "91eaf341-c9d1-4861-ea70-b338336cda0a"
      },
      "execution_count": 15,
      "outputs": [
        {
          "output_type": "execute_result",
          "data": {
            "text/plain": [
              "age\n",
              "[70-80)     26066\n",
              "[60-70)     22482\n",
              "[50-60)     17256\n",
              "[80-90)     17197\n",
              "[40-50)      9685\n",
              "[30-40)      3775\n",
              "[90-100)     2793\n",
              "[20-30)      1657\n",
              "[10-20)       691\n",
              "[0-10)        161\n",
              "Name: count, dtype: int64"
            ],
            "text/html": [
              "<div>\n",
              "<style scoped>\n",
              "    .dataframe tbody tr th:only-of-type {\n",
              "        vertical-align: middle;\n",
              "    }\n",
              "\n",
              "    .dataframe tbody tr th {\n",
              "        vertical-align: top;\n",
              "    }\n",
              "\n",
              "    .dataframe thead th {\n",
              "        text-align: right;\n",
              "    }\n",
              "</style>\n",
              "<table border=\"1\" class=\"dataframe\">\n",
              "  <thead>\n",
              "    <tr style=\"text-align: right;\">\n",
              "      <th></th>\n",
              "      <th>count</th>\n",
              "    </tr>\n",
              "    <tr>\n",
              "      <th>age</th>\n",
              "      <th></th>\n",
              "    </tr>\n",
              "  </thead>\n",
              "  <tbody>\n",
              "    <tr>\n",
              "      <th>[70-80)</th>\n",
              "      <td>26066</td>\n",
              "    </tr>\n",
              "    <tr>\n",
              "      <th>[60-70)</th>\n",
              "      <td>22482</td>\n",
              "    </tr>\n",
              "    <tr>\n",
              "      <th>[50-60)</th>\n",
              "      <td>17256</td>\n",
              "    </tr>\n",
              "    <tr>\n",
              "      <th>[80-90)</th>\n",
              "      <td>17197</td>\n",
              "    </tr>\n",
              "    <tr>\n",
              "      <th>[40-50)</th>\n",
              "      <td>9685</td>\n",
              "    </tr>\n",
              "    <tr>\n",
              "      <th>[30-40)</th>\n",
              "      <td>3775</td>\n",
              "    </tr>\n",
              "    <tr>\n",
              "      <th>[90-100)</th>\n",
              "      <td>2793</td>\n",
              "    </tr>\n",
              "    <tr>\n",
              "      <th>[20-30)</th>\n",
              "      <td>1657</td>\n",
              "    </tr>\n",
              "    <tr>\n",
              "      <th>[10-20)</th>\n",
              "      <td>691</td>\n",
              "    </tr>\n",
              "    <tr>\n",
              "      <th>[0-10)</th>\n",
              "      <td>161</td>\n",
              "    </tr>\n",
              "  </tbody>\n",
              "</table>\n",
              "</div><br><label><b>dtype:</b> int64</label>"
            ]
          },
          "metadata": {},
          "execution_count": 15
        }
      ]
    },
    {
      "cell_type": "code",
      "source": [
        "import matplotlib.pyplot as plt\n",
        "df['age'].value_counts().plot(kind='bar', color='skyblue')\n",
        "plt.xlabel('Age Group')\n",
        "plt.ylabel('Count')\n",
        "plt.title('Distribution of Age Groups')\n",
        "plt.show()"
      ],
      "metadata": {
        "colab": {
          "base_uri": "https://localhost:8080/",
          "height": 517
        },
        "id": "F8fTUK7SZgd6",
        "outputId": "ae0d885d-9f02-401f-f02e-3d8a28ad350a"
      },
      "execution_count": 16,
      "outputs": [
        {
          "output_type": "display_data",
          "data": {
            "text/plain": [
              "<Figure size 640x480 with 1 Axes>"
            ],
            "image/png": "[encoded data removed]"
          },
          "metadata": {}
        }
      ]
    },
    {
      "cell_type": "code",
      "source": [
        "df['weight'].value_counts()"
      ],
      "metadata": {
        "colab": {
          "base_uri": "https://localhost:8080/",
          "height": 429
        },
        "id": "d792O0irBk9_",
        "outputId": "c8aaefb4-999a-4114-f03e-789d33105be0"
      },
      "execution_count": 17,
      "outputs": [
        {
          "output_type": "execute_result",
          "data": {
            "text/plain": [
              "weight\n",
              "?            98566\n",
              "[75-100)      1336\n",
              "[50-75)        897\n",
              "[100-125)      625\n",
              "[125-150)      145\n",
              "[25-50)         97\n",
              "[0-25)          48\n",
              "[150-175)       35\n",
              "[175-200)       11\n",
              ">200             3\n",
              "Name: count, dtype: int64"
            ],
            "text/html": [
              "<div>\n",
              "<style scoped>\n",
              "    .dataframe tbody tr th:only-of-type {\n",
              "        vertical-align: middle;\n",
              "    }\n",
              "\n",
              "    .dataframe tbody tr th {\n",
              "        vertical-align: top;\n",
              "    }\n",
              "\n",
              "    .dataframe thead th {\n",
              "        text-align: right;\n",
              "    }\n",
              "</style>\n",
              "<table border=\"1\" class=\"dataframe\">\n",
              "  <thead>\n",
              "    <tr style=\"text-align: right;\">\n",
              "      <th></th>\n",
              "      <th>count</th>\n",
              "    </tr>\n",
              "    <tr>\n",
              "      <th>weight</th>\n",
              "      <th></th>\n",
              "    </tr>\n",
              "  </thead>\n",
              "  <tbody>\n",
              "    <tr>\n",
              "      <th>?</th>\n",
              "      <td>98566</td>\n",
              "    </tr>\n",
              "    <tr>\n",
              "      <th>[75-100)</th>\n",
              "      <td>1336</td>\n",
              "    </tr>\n",
              "    <tr>\n",
              "      <th>[50-75)</th>\n",
              "      <td>897</td>\n",
              "    </tr>\n",
              "    <tr>\n",
              "      <th>[100-125)</th>\n",
              "      <td>625</td>\n",
              "    </tr>\n",
              "    <tr>\n",
              "      <th>[125-150)</th>\n",
              "      <td>145</td>\n",
              "    </tr>\n",
              "    <tr>\n",
              "      <th>[25-50)</th>\n",
              "      <td>97</td>\n",
              "    </tr>\n",
              "    <tr>\n",
              "      <th>[0-25)</th>\n",
              "      <td>48</td>\n",
              "    </tr>\n",
              "    <tr>\n",
              "      <th>[150-175)</th>\n",
              "      <td>35</td>\n",
              "    </tr>\n",
              "    <tr>\n",
              "      <th>[175-200)</th>\n",
              "      <td>11</td>\n",
              "    </tr>\n",
              "    <tr>\n",
              "      <th>&gt;200</th>\n",
              "      <td>3</td>\n",
              "    </tr>\n",
              "  </tbody>\n",
              "</table>\n",
              "</div><br><label><b>dtype:</b> int64</label>"
            ]
          },
          "metadata": {},
          "execution_count": 17
        }
      ]
    },
    {
      "cell_type": "markdown",
      "source": [
        "- Over 98% of the data is missing for weight.\n",
        "\n",
        "- Only a tiny fraction have any recorded weight, and it's binned, not continuous\n",
        "\n",
        "- Let's drop the column. It is overwhelmingly missing and will not provide useful signal to your model. Including it may introduce noise or bias."
      ],
      "metadata": {
        "id": "wwCihhBJCw7O"
      }
    },
    {
      "cell_type": "code",
      "source": [
        "# Drop the 'weight' column\n",
        "df = df.drop(columns=['weight'])"
      ],
      "metadata": {
        "id": "yzO5ZOQUDtNw"
      },
      "execution_count": 18,
      "outputs": []
    },
    {
      "cell_type": "markdown",
      "source": [
        "- While going through csv I can see some ? in some columns. Lets analyse their value counts"
      ],
      "metadata": {
        "id": "DwQWNO2CEY92"
      }
    },
    {
      "cell_type": "code",
      "source": [
        "df['payer_code'].value_counts().head()"
      ],
      "metadata": {
        "colab": {
          "base_uri": "https://localhost:8080/",
          "height": 272
        },
        "id": "Y4DqVqCdEYpv",
        "outputId": "c25d25be-f082-4261-bc7e-9e42f313571f"
      },
      "execution_count": 19,
      "outputs": [
        {
          "output_type": "execute_result",
          "data": {
            "text/plain": [
              "payer_code\n",
              "?     40255\n",
              "MC    32439\n",
              "HM     6274\n",
              "SP     5007\n",
              "BC     4655\n",
              "Name: count, dtype: int64"
            ],
            "text/html": [
              "<div>\n",
              "<style scoped>\n",
              "    .dataframe tbody tr th:only-of-type {\n",
              "        vertical-align: middle;\n",
              "    }\n",
              "\n",
              "    .dataframe tbody tr th {\n",
              "        vertical-align: top;\n",
              "    }\n",
              "\n",
              "    .dataframe thead th {\n",
              "        text-align: right;\n",
              "    }\n",
              "</style>\n",
              "<table border=\"1\" class=\"dataframe\">\n",
              "  <thead>\n",
              "    <tr style=\"text-align: right;\">\n",
              "      <th></th>\n",
              "      <th>count</th>\n",
              "    </tr>\n",
              "    <tr>\n",
              "      <th>payer_code</th>\n",
              "      <th></th>\n",
              "    </tr>\n",
              "  </thead>\n",
              "  <tbody>\n",
              "    <tr>\n",
              "      <th>?</th>\n",
              "      <td>40255</td>\n",
              "    </tr>\n",
              "    <tr>\n",
              "      <th>MC</th>\n",
              "      <td>32439</td>\n",
              "    </tr>\n",
              "    <tr>\n",
              "      <th>HM</th>\n",
              "      <td>6274</td>\n",
              "    </tr>\n",
              "    <tr>\n",
              "      <th>SP</th>\n",
              "      <td>5007</td>\n",
              "    </tr>\n",
              "    <tr>\n",
              "      <th>BC</th>\n",
              "      <td>4655</td>\n",
              "    </tr>\n",
              "  </tbody>\n",
              "</table>\n",
              "</div><br><label><b>dtype:</b> int64</label>"
            ]
          },
          "metadata": {},
          "execution_count": 19
        }
      ]
    },
    {
      "cell_type": "markdown",
      "source": [
        "- This column represents the primary payment source\n",
        "- About 40% of the data is missing for payer_code\n",
        "- Let's Treat '?' as a separate category (e.g., \"Unknown\")."
      ],
      "metadata": {
        "id": "6gfJj7rFGwbn"
      }
    },
    {
      "cell_type": "code",
      "source": [
        "df['medical_specialty'].value_counts().head()"
      ],
      "metadata": {
        "colab": {
          "base_uri": "https://localhost:8080/",
          "height": 272
        },
        "id": "jTP-xIxTFBhX",
        "outputId": "4aa39b3c-329f-4829-c433-7d9332c0c84e"
      },
      "execution_count": 20,
      "outputs": [
        {
          "output_type": "execute_result",
          "data": {
            "text/plain": [
              "medical_specialty\n",
              "?                         49947\n",
              "InternalMedicine          14635\n",
              "Emergency/Trauma           7565\n",
              "Family/GeneralPractice     7440\n",
              "Cardiology                 5351\n",
              "Name: count, dtype: int64"
            ],
            "text/html": [
              "<div>\n",
              "<style scoped>\n",
              "    .dataframe tbody tr th:only-of-type {\n",
              "        vertical-align: middle;\n",
              "    }\n",
              "\n",
              "    .dataframe tbody tr th {\n",
              "        vertical-align: top;\n",
              "    }\n",
              "\n",
              "    .dataframe thead th {\n",
              "        text-align: right;\n",
              "    }\n",
              "</style>\n",
              "<table border=\"1\" class=\"dataframe\">\n",
              "  <thead>\n",
              "    <tr style=\"text-align: right;\">\n",
              "      <th></th>\n",
              "      <th>count</th>\n",
              "    </tr>\n",
              "    <tr>\n",
              "      <th>medical_specialty</th>\n",
              "      <th></th>\n",
              "    </tr>\n",
              "  </thead>\n",
              "  <tbody>\n",
              "    <tr>\n",
              "      <th>?</th>\n",
              "      <td>49947</td>\n",
              "    </tr>\n",
              "    <tr>\n",
              "      <th>InternalMedicine</th>\n",
              "      <td>14635</td>\n",
              "    </tr>\n",
              "    <tr>\n",
              "      <th>Emergency/Trauma</th>\n",
              "      <td>7565</td>\n",
              "    </tr>\n",
              "    <tr>\n",
              "      <th>Family/GeneralPractice</th>\n",
              "      <td>7440</td>\n",
              "    </tr>\n",
              "    <tr>\n",
              "      <th>Cardiology</th>\n",
              "      <td>5351</td>\n",
              "    </tr>\n",
              "  </tbody>\n",
              "</table>\n",
              "</div><br><label><b>dtype:</b> int64</label>"
            ]
          },
          "metadata": {},
          "execution_count": 20
        }
      ]
    },
    {
      "cell_type": "markdown",
      "source": [
        "- About 50% of the data is missing for medical_specialty.\n",
        "\n",
        "- This column represents the medical specialty of the admitting physician."
      ],
      "metadata": {
        "id": "hE6gRIHWHU1P"
      }
    },
    {
      "cell_type": "code",
      "source": [
        "df['diag_1'].value_counts().get('?', 0)"
      ],
      "metadata": {
        "colab": {
          "base_uri": "https://localhost:8080/"
        },
        "id": "dN2q9epdFH8Y",
        "outputId": "8089c6c6-b262-4e1e-a448-dd51b2209325"
      },
      "execution_count": 21,
      "outputs": [
        {
          "output_type": "execute_result",
          "data": {
            "text/plain": [
              "np.int64(21)"
            ]
          },
          "metadata": {},
          "execution_count": 21
        }
      ]
    },
    {
      "cell_type": "code",
      "source": [
        "df['diag_2'].value_counts().get('?', 0)"
      ],
      "metadata": {
        "colab": {
          "base_uri": "https://localhost:8080/"
        },
        "id": "n-U3_hcTFmrO",
        "outputId": "dbe605b2-f3ab-446b-a2db-1d5aad90b011"
      },
      "execution_count": 22,
      "outputs": [
        {
          "output_type": "execute_result",
          "data": {
            "text/plain": [
              "np.int64(358)"
            ]
          },
          "metadata": {},
          "execution_count": 22
        }
      ]
    },
    {
      "cell_type": "code",
      "source": [
        "df['diag_3'].value_counts().get('?', 0)"
      ],
      "metadata": {
        "colab": {
          "base_uri": "https://localhost:8080/"
        },
        "id": "2rsLFCf9Fmgu",
        "outputId": "588d066f-68b5-484f-8b20-92921ea91346"
      },
      "execution_count": 23,
      "outputs": [
        {
          "output_type": "execute_result",
          "data": {
            "text/plain": [
              "np.int64(1423)"
            ]
          },
          "metadata": {},
          "execution_count": 23
        }
      ]
    },
    {
      "cell_type": "markdown",
      "source": [
        "- Codes like 250.83, 250.01, V27, 403, 414, 427, 486, etc. are all valid ICD-9-CM diagnosis codes.\n",
        "\n",
        "- The variables diag_1, diag_2, and diag_3 represent the primary, secondary, and tertiary diagnoses for each patient, following ICD-9-CM conventions for coding multiple conditions per encounter.\n",
        "\n",
        "- For missing diagnosis codes, let's impute the missing values or treat them as a separate “Unknown” category, rather than removing the data, to preserve as much information as possible for analysis"
      ],
      "metadata": {
        "id": "6JsFFxTfH5Rm"
      }
    },
    {
      "cell_type": "markdown",
      "source": [
        "#### Reference Websites\n",
        "- https://www.rapidclaims.ai/blogs/icd-9-codes-overview-diagnosis-procedure\n",
        "- https://www.cdc.gov/nchs/data/icd/icd9cm_guidelines_2011.pdf\n",
        "- https://www.findacode.com/icd-9/icd9-diagnosis-codes-V6-group.html"
      ],
      "metadata": {
        "id": "OnlmABQVahHC"
      }
    },
    {
      "cell_type": "code",
      "source": [
        "df['diag_1'].value_counts()"
      ],
      "metadata": {
        "colab": {
          "base_uri": "https://localhost:8080/",
          "height": 489
        },
        "id": "UH4z0RkRIVAo",
        "outputId": "e3fd5e0d-d466-4d54-ca9f-728ccd1b3881"
      },
      "execution_count": 24,
      "outputs": [
        {
          "output_type": "execute_result",
          "data": {
            "text/plain": [
              "diag_1\n",
              "428    6862\n",
              "414    6580\n",
              "786    4016\n",
              "410    3614\n",
              "486    3508\n",
              "       ... \n",
              "833       1\n",
              "391       1\n",
              "690       1\n",
              "10        1\n",
              "V51       1\n",
              "Name: count, Length: 717, dtype: int64"
            ],
            "text/html": [
              "<div>\n",
              "<style scoped>\n",
              "    .dataframe tbody tr th:only-of-type {\n",
              "        vertical-align: middle;\n",
              "    }\n",
              "\n",
              "    .dataframe tbody tr th {\n",
              "        vertical-align: top;\n",
              "    }\n",
              "\n",
              "    .dataframe thead th {\n",
              "        text-align: right;\n",
              "    }\n",
              "</style>\n",
              "<table border=\"1\" class=\"dataframe\">\n",
              "  <thead>\n",
              "    <tr style=\"text-align: right;\">\n",
              "      <th></th>\n",
              "      <th>count</th>\n",
              "    </tr>\n",
              "    <tr>\n",
              "      <th>diag_1</th>\n",
              "      <th></th>\n",
              "    </tr>\n",
              "  </thead>\n",
              "  <tbody>\n",
              "    <tr>\n",
              "      <th>428</th>\n",
              "      <td>6862</td>\n",
              "    </tr>\n",
              "    <tr>\n",
              "      <th>414</th>\n",
              "      <td>6580</td>\n",
              "    </tr>\n",
              "    <tr>\n",
              "      <th>786</th>\n",
              "      <td>4016</td>\n",
              "    </tr>\n",
              "    <tr>\n",
              "      <th>410</th>\n",
              "      <td>3614</td>\n",
              "    </tr>\n",
              "    <tr>\n",
              "      <th>486</th>\n",
              "      <td>3508</td>\n",
              "    </tr>\n",
              "    <tr>\n",
              "      <th>...</th>\n",
              "      <td>...</td>\n",
              "    </tr>\n",
              "    <tr>\n",
              "      <th>833</th>\n",
              "      <td>1</td>\n",
              "    </tr>\n",
              "    <tr>\n",
              "      <th>391</th>\n",
              "      <td>1</td>\n",
              "    </tr>\n",
              "    <tr>\n",
              "      <th>690</th>\n",
              "      <td>1</td>\n",
              "    </tr>\n",
              "    <tr>\n",
              "      <th>10</th>\n",
              "      <td>1</td>\n",
              "    </tr>\n",
              "    <tr>\n",
              "      <th>V51</th>\n",
              "      <td>1</td>\n",
              "    </tr>\n",
              "  </tbody>\n",
              "</table>\n",
              "<p>717 rows × 1 columns</p>\n",
              "</div><br><label><b>dtype:</b> int64</label>"
            ]
          },
          "metadata": {},
          "execution_count": 24
        }
      ]
    },
    {
      "cell_type": "code",
      "source": [
        "def icd9_group(code):\n",
        "    if pd.isnull(code) or code == '?':\n",
        "        return 'Unknown'\n",
        "    code_str = str(code)\n",
        "    if code_str.startswith('V'):\n",
        "        return 'Supplementary'\n",
        "    try:\n",
        "        prefix = int(float(code_str.split('.')[0]))\n",
        "    except ValueError:\n",
        "        return 'Unknown'\n",
        "    if 1 <= prefix <= 139:\n",
        "        return 'Infectious'\n",
        "    elif 140 <= prefix <= 239:\n",
        "        return 'Neoplasms'\n",
        "    elif 240 <= prefix <= 279:\n",
        "        return 'Endocrine'\n",
        "    elif 280 <= prefix <= 289:\n",
        "        return 'Blood'\n",
        "    elif 290 <= prefix <= 319:\n",
        "        return 'Mental'\n",
        "    elif 320 <= prefix <= 389:\n",
        "        return 'Nervous'\n",
        "    elif 390 <= prefix <= 459:\n",
        "        return 'Circulatory'\n",
        "    elif 460 <= prefix <= 519:\n",
        "        return 'Respiratory'\n",
        "    elif 520 <= prefix <= 579:\n",
        "        return 'Digestive'\n",
        "    elif 580 <= prefix <= 629:\n",
        "        return 'Genitourinary'\n",
        "    elif 630 <= prefix <= 679:\n",
        "        return 'Pregnancy'\n",
        "    elif 680 <= prefix <= 709:\n",
        "        return 'Skin'\n",
        "    elif 710 <= prefix <= 739:\n",
        "        return 'Musculoskeletal'\n",
        "    elif 740 <= prefix <= 759:\n",
        "        return 'Congenital'\n",
        "    elif 780 <= prefix <= 799:\n",
        "        return 'Symptoms'\n",
        "    elif 800 <= prefix <= 999:\n",
        "        return 'Injury'\n",
        "    else:\n",
        "        return 'Other'\n",
        "\n",
        "for col in ['diag_1', 'diag_2', 'diag_3']:\n",
        "    df[col + '_group'] = df[col].apply(icd9_group)"
      ],
      "metadata": {
        "id": "KbFc4X7eJV7Y"
      },
      "execution_count": 25,
      "outputs": []
    },
    {
      "cell_type": "code",
      "source": [
        "df['diag_1_group'].value_counts()"
      ],
      "metadata": {
        "colab": {
          "base_uri": "https://localhost:8080/",
          "height": 679
        },
        "id": "R9L1R4fFJX6n",
        "outputId": "f0effa2b-92c4-4baa-bdfe-e1c3ef29c0fb"
      },
      "execution_count": 26,
      "outputs": [
        {
          "output_type": "execute_result",
          "data": {
            "text/plain": [
              "diag_1_group\n",
              "Circulatory        30335\n",
              "Endocrine          11459\n",
              "Respiratory        10407\n",
              "Digestive           9208\n",
              "Symptoms            7636\n",
              "Injury              6972\n",
              "Genitourinary       5078\n",
              "Musculoskeletal     4957\n",
              "Neoplasms           3433\n",
              "Infectious          2768\n",
              "Skin                2530\n",
              "Mental              2262\n",
              "Supplementary       1644\n",
              "Nervous             1211\n",
              "Blood               1103\n",
              "Pregnancy            687\n",
              "Congenital            51\n",
              "Unknown               22\n",
              "Name: count, dtype: int64"
            ],
            "text/html": [
              "<div>\n",
              "<style scoped>\n",
              "    .dataframe tbody tr th:only-of-type {\n",
              "        vertical-align: middle;\n",
              "    }\n",
              "\n",
              "    .dataframe tbody tr th {\n",
              "        vertical-align: top;\n",
              "    }\n",
              "\n",
              "    .dataframe thead th {\n",
              "        text-align: right;\n",
              "    }\n",
              "</style>\n",
              "<table border=\"1\" class=\"dataframe\">\n",
              "  <thead>\n",
              "    <tr style=\"text-align: right;\">\n",
              "      <th></th>\n",
              "      <th>count</th>\n",
              "    </tr>\n",
              "    <tr>\n",
              "      <th>diag_1_group</th>\n",
              "      <th></th>\n",
              "    </tr>\n",
              "  </thead>\n",
              "  <tbody>\n",
              "    <tr>\n",
              "      <th>Circulatory</th>\n",
              "      <td>30335</td>\n",
              "    </tr>\n",
              "    <tr>\n",
              "      <th>Endocrine</th>\n",
              "      <td>11459</td>\n",
              "    </tr>\n",
              "    <tr>\n",
              "      <th>Respiratory</th>\n",
              "      <td>10407</td>\n",
              "    </tr>\n",
              "    <tr>\n",
              "      <th>Digestive</th>\n",
              "      <td>9208</td>\n",
              "    </tr>\n",
              "    <tr>\n",
              "      <th>Symptoms</th>\n",
              "      <td>7636</td>\n",
              "    </tr>\n",
              "    <tr>\n",
              "      <th>Injury</th>\n",
              "      <td>6972</td>\n",
              "    </tr>\n",
              "    <tr>\n",
              "      <th>Genitourinary</th>\n",
              "      <td>5078</td>\n",
              "    </tr>\n",
              "    <tr>\n",
              "      <th>Musculoskeletal</th>\n",
              "      <td>4957</td>\n",
              "    </tr>\n",
              "    <tr>\n",
              "      <th>Neoplasms</th>\n",
              "      <td>3433</td>\n",
              "    </tr>\n",
              "    <tr>\n",
              "      <th>Infectious</th>\n",
              "      <td>2768</td>\n",
              "    </tr>\n",
              "    <tr>\n",
              "      <th>Skin</th>\n",
              "      <td>2530</td>\n",
              "    </tr>\n",
              "    <tr>\n",
              "      <th>Mental</th>\n",
              "      <td>2262</td>\n",
              "    </tr>\n",
              "    <tr>\n",
              "      <th>Supplementary</th>\n",
              "      <td>1644</td>\n",
              "    </tr>\n",
              "    <tr>\n",
              "      <th>Nervous</th>\n",
              "      <td>1211</td>\n",
              "    </tr>\n",
              "    <tr>\n",
              "      <th>Blood</th>\n",
              "      <td>1103</td>\n",
              "    </tr>\n",
              "    <tr>\n",
              "      <th>Pregnancy</th>\n",
              "      <td>687</td>\n",
              "    </tr>\n",
              "    <tr>\n",
              "      <th>Congenital</th>\n",
              "      <td>51</td>\n",
              "    </tr>\n",
              "    <tr>\n",
              "      <th>Unknown</th>\n",
              "      <td>22</td>\n",
              "    </tr>\n",
              "  </tbody>\n",
              "</table>\n",
              "</div><br><label><b>dtype:</b> int64</label>"
            ]
          },
          "metadata": {},
          "execution_count": 26
        }
      ]
    },
    {
      "cell_type": "markdown",
      "source": [
        "- Clinical relevance: Diagnosis codes are often among the strongest predictors of readmission risk. They capture the patient’s primary and secondary health issues during the hospital stay."
      ],
      "metadata": {
        "id": "rbGdLJ2-KSRH"
      }
    },
    {
      "cell_type": "code",
      "source": [
        "# Now that we have their categorical columns we can drop these\n",
        "df = df.drop(columns=['diag_1', 'diag_2', 'diag_3'])"
      ],
      "metadata": {
        "id": "2p5hftpNZ8k4"
      },
      "execution_count": 27,
      "outputs": []
    },
    {
      "cell_type": "code",
      "source": [
        "# List of columns to handle\n",
        "cols_with_question = ['race', 'payer_code', 'medical_specialty']\n",
        "\n",
        "# Replace '?' with 'Unknown' in the specified columns\n",
        "for col in cols_with_question:\n",
        "    df[col] = df[col].replace('?', 'Unknown')"
      ],
      "metadata": {
        "id": "iGqoI2EZKVIP"
      },
      "execution_count": 29,
      "outputs": []
    },
    {
      "cell_type": "code",
      "source": [
        "import pandas as pd\n",
        "\n",
        "# Numeric columns\n",
        "numeric_cols = df.select_dtypes(include=['number']).columns\n",
        "print(\"Missing values in numeric columns:\")\n",
        "print(df[numeric_cols].isnull().sum())\n",
        "\n",
        "# Categorical columns\n",
        "categorical_cols = df.select_dtypes(include=['object', 'category']).columns\n",
        "print(\"\\nMissing values in categorical columns:\")\n",
        "print(df[categorical_cols].isnull().sum())"
      ],
      "metadata": {
        "id": "xO0UsxcD7vhK",
        "colab": {
          "base_uri": "https://localhost:8080/"
        },
        "outputId": "0733caec-e76b-4c45-e4c6-1a4edfa6bb1b"
      },
      "execution_count": null,
      "outputs": [
        {
          "output_type": "stream",
          "name": "stdout",
          "text": [
            "Missing values in numeric columns:\n",
            "encounter_id                0\n",
            "patient_nbr                 0\n",
            "admission_type_id           0\n",
            "discharge_disposition_id    0\n",
            "admission_source_id         0\n",
            "time_in_hospital            0\n",
            "num_lab_procedures          0\n",
            "num_procedures              0\n",
            "num_medications             0\n",
            "number_outpatient           0\n",
            "number_emergency            0\n",
            "number_inpatient            0\n",
            "number_diagnoses            0\n",
            "dtype: int64\n",
            "\n",
            "Missing values in categorical columns:\n",
            "race                        0\n",
            "gender                      0\n",
            "age                         0\n",
            "payer_code                  0\n",
            "medical_specialty           0\n",
            "diag_1                      0\n",
            "diag_2                      0\n",
            "diag_3                      0\n",
            "max_glu_serum               0\n",
            "A1Cresult                   0\n",
            "metformin                   0\n",
            "repaglinide                 0\n",
            "nateglinide                 0\n",
            "chlorpropamide              0\n",
            "glimepiride                 0\n",
            "acetohexamide               0\n",
            "glipizide                   0\n",
            "glyburide                   0\n",
            "tolbutamide                 0\n",
            "pioglitazone                0\n",
            "rosiglitazone               0\n",
            "acarbose                    0\n",
            "miglitol                    0\n",
            "troglitazone                0\n",
            "tolazamide                  0\n",
            "examide                     0\n",
            "citoglipton                 0\n",
            "insulin                     0\n",
            "glyburide-metformin         0\n",
            "glipizide-metformin         0\n",
            "glimepiride-pioglitazone    0\n",
            "metformin-rosiglitazone     0\n",
            "metformin-pioglitazone      0\n",
            "change                      0\n",
            "diabetesMed                 0\n",
            "readmitted                  0\n",
            "diag_1_group                0\n",
            "diag_2_group                0\n",
            "diag_3_group                0\n",
            "dtype: int64\n"
          ]
        }
      ]
    },
    {
      "cell_type": "code",
      "source": [
        "for col in df.select_dtypes(include=['object', 'category']).columns:\n",
        "    print(df[col].value_counts())\n",
        "    print(\"\\n\")"
      ],
      "metadata": {
        "colab": {
          "base_uri": "https://localhost:8080/"
        },
        "id": "C_AZkFYHRh4Q",
        "outputId": "498bdfe9-ef19-49ed-a2be-a2e02a81bba5"
      },
      "execution_count": 30,
      "outputs": [
        {
          "output_type": "stream",
          "name": "stdout",
          "text": [
            "race\n",
            "Caucasian          76099\n",
            "AfricanAmerican    19210\n",
            "Unknown             2271\n",
            "Hispanic            2037\n",
            "Other               1505\n",
            "Asian                641\n",
            "Name: count, dtype: int64\n",
            "\n",
            "\n",
            "gender\n",
            "Female    54708\n",
            "Male      47055\n",
            "Name: count, dtype: int64\n",
            "\n",
            "\n",
            "age\n",
            "[70-80)     26066\n",
            "[60-70)     22482\n",
            "[50-60)     17256\n",
            "[80-90)     17197\n",
            "[40-50)      9685\n",
            "[30-40)      3775\n",
            "[90-100)     2793\n",
            "[20-30)      1657\n",
            "[10-20)       691\n",
            "[0-10)        161\n",
            "Name: count, dtype: int64\n",
            "\n",
            "\n",
            "payer_code\n",
            "Unknown    40255\n",
            "MC         32439\n",
            "HM          6274\n",
            "SP          5007\n",
            "BC          4655\n",
            "MD          3532\n",
            "CP          2531\n",
            "UN          2448\n",
            "CM          1937\n",
            "OG          1033\n",
            "PO           592\n",
            "DM           549\n",
            "CH           146\n",
            "WC           135\n",
            "OT            95\n",
            "MP            79\n",
            "SI            55\n",
            "FR             1\n",
            "Name: count, dtype: int64\n",
            "\n",
            "\n",
            "medical_specialty\n",
            "Unknown                   49947\n",
            "InternalMedicine          14635\n",
            "Emergency/Trauma           7565\n",
            "Family/GeneralPractice     7440\n",
            "Cardiology                 5351\n",
            "                          ...  \n",
            "Proctology                    1\n",
            "Speech                        1\n",
            "SportsMedicine                1\n",
            "Perinatology                  1\n",
            "Neurophysiology               1\n",
            "Name: count, Length: 73, dtype: int64\n",
            "\n",
            "\n",
            "max_glu_serum\n",
            "No Information    96417\n",
            "Norm               2597\n",
            ">200               1485\n",
            ">300               1264\n",
            "Name: count, dtype: int64\n",
            "\n",
            "\n",
            "A1Cresult\n",
            "No Information    84745\n",
            ">8                 8216\n",
            "Norm               4990\n",
            ">7                 3812\n",
            "Name: count, dtype: int64\n",
            "\n",
            "\n",
            "metformin\n",
            "No        81776\n",
            "Steady    18345\n",
            "Up         1067\n",
            "Down        575\n",
            "Name: count, dtype: int64\n",
            "\n",
            "\n",
            "repaglinide\n",
            "No        100224\n",
            "Steady      1384\n",
            "Up           110\n",
            "Down          45\n",
            "Name: count, dtype: int64\n",
            "\n",
            "\n",
            "nateglinide\n",
            "No        101060\n",
            "Steady       668\n",
            "Up            24\n",
            "Down          11\n",
            "Name: count, dtype: int64\n",
            "\n",
            "\n",
            "chlorpropamide\n",
            "No        101677\n",
            "Steady        79\n",
            "Up             6\n",
            "Down           1\n",
            "Name: count, dtype: int64\n",
            "\n",
            "\n",
            "glimepiride\n",
            "No        96572\n",
            "Steady     4670\n",
            "Up          327\n",
            "Down        194\n",
            "Name: count, dtype: int64\n",
            "\n",
            "\n",
            "acetohexamide\n",
            "No        101762\n",
            "Steady         1\n",
            "Name: count, dtype: int64\n",
            "\n",
            "\n",
            "glipizide\n",
            "No        89078\n",
            "Steady    11355\n",
            "Up          770\n",
            "Down        560\n",
            "Name: count, dtype: int64\n",
            "\n",
            "\n",
            "glyburide\n",
            "No        91113\n",
            "Steady     9274\n",
            "Up          812\n",
            "Down        564\n",
            "Name: count, dtype: int64\n",
            "\n",
            "\n",
            "tolbutamide\n",
            "No        101740\n",
            "Steady        23\n",
            "Name: count, dtype: int64\n",
            "\n",
            "\n",
            "pioglitazone\n",
            "No        94436\n",
            "Steady     6975\n",
            "Up          234\n",
            "Down        118\n",
            "Name: count, dtype: int64\n",
            "\n",
            "\n",
            "rosiglitazone\n",
            "No        95399\n",
            "Steady     6099\n",
            "Up          178\n",
            "Down         87\n",
            "Name: count, dtype: int64\n",
            "\n",
            "\n",
            "acarbose\n",
            "No        101455\n",
            "Steady       295\n",
            "Up            10\n",
            "Down           3\n",
            "Name: count, dtype: int64\n",
            "\n",
            "\n",
            "miglitol\n",
            "No        101725\n",
            "Steady        31\n",
            "Down           5\n",
            "Up             2\n",
            "Name: count, dtype: int64\n",
            "\n",
            "\n",
            "troglitazone\n",
            "No        101760\n",
            "Steady         3\n",
            "Name: count, dtype: int64\n",
            "\n",
            "\n",
            "tolazamide\n",
            "No        101724\n",
            "Steady        38\n",
            "Up             1\n",
            "Name: count, dtype: int64\n",
            "\n",
            "\n",
            "examide\n",
            "No    101763\n",
            "Name: count, dtype: int64\n",
            "\n",
            "\n",
            "citoglipton\n",
            "No    101763\n",
            "Name: count, dtype: int64\n",
            "\n",
            "\n",
            "insulin\n",
            "No        47380\n",
            "Steady    30849\n",
            "Down      12218\n",
            "Up        11316\n",
            "Name: count, dtype: int64\n",
            "\n",
            "\n",
            "glyburide-metformin\n",
            "No        101057\n",
            "Steady       692\n",
            "Up             8\n",
            "Down           6\n",
            "Name: count, dtype: int64\n",
            "\n",
            "\n",
            "glipizide-metformin\n",
            "No        101750\n",
            "Steady        13\n",
            "Name: count, dtype: int64\n",
            "\n",
            "\n",
            "glimepiride-pioglitazone\n",
            "No        101762\n",
            "Steady         1\n",
            "Name: count, dtype: int64\n",
            "\n",
            "\n",
            "metformin-rosiglitazone\n",
            "No        101761\n",
            "Steady         2\n",
            "Name: count, dtype: int64\n",
            "\n",
            "\n",
            "metformin-pioglitazone\n",
            "No        101762\n",
            "Steady         1\n",
            "Name: count, dtype: int64\n",
            "\n",
            "\n",
            "change\n",
            "No    54754\n",
            "Ch    47009\n",
            "Name: count, dtype: int64\n",
            "\n",
            "\n",
            "diabetesMed\n",
            "Yes    78361\n",
            "No     23402\n",
            "Name: count, dtype: int64\n",
            "\n",
            "\n",
            "readmitted\n",
            "NO     54861\n",
            ">30    35545\n",
            "<30    11357\n",
            "Name: count, dtype: int64\n",
            "\n",
            "\n",
            "diag_1_group\n",
            "Circulatory        30335\n",
            "Endocrine          11459\n",
            "Respiratory        10407\n",
            "Digestive           9208\n",
            "Symptoms            7636\n",
            "Injury              6972\n",
            "Genitourinary       5078\n",
            "Musculoskeletal     4957\n",
            "Neoplasms           3433\n",
            "Infectious          2768\n",
            "Skin                2530\n",
            "Mental              2262\n",
            "Supplementary       1644\n",
            "Nervous             1211\n",
            "Blood               1103\n",
            "Pregnancy            687\n",
            "Congenital            51\n",
            "Unknown               22\n",
            "Name: count, dtype: int64\n",
            "\n",
            "\n",
            "diag_2_group\n",
            "Circulatory        31364\n",
            "Endocrine          21017\n",
            "Respiratory        10251\n",
            "Genitourinary       7987\n",
            "Symptoms            4632\n",
            "Digestive           3962\n",
            "Skin                3596\n",
            "Blood               2926\n",
            "Mental              2657\n",
            "Neoplasms           2547\n",
            "Injury              2426\n",
            "Infectious          1931\n",
            "Supplementary       1805\n",
            "Musculoskeletal     1764\n",
            "Nervous             1286\n",
            "Unknown             1089\n",
            "Pregnancy            415\n",
            "Congenital           108\n",
            "Name: count, dtype: int64\n",
            "\n",
            "\n",
            "diag_3_group\n",
            "Circulatory        29917\n",
            "Endocrine          26308\n",
            "Respiratory         6774\n",
            "Genitourinary       6327\n",
            "Symptoms            4523\n",
            "Supplementary       3814\n",
            "Digestive           3572\n",
            "Mental              3136\n",
            "Unknown             2666\n",
            "Blood               2490\n",
            "Skin                2488\n",
            "Injury              1945\n",
            "Musculoskeletal     1915\n",
            "Infectious          1861\n",
            "Neoplasms           1856\n",
            "Nervous             1766\n",
            "Pregnancy            309\n",
            "Congenital            96\n",
            "Name: count, dtype: int64\n",
            "\n",
            "\n"
          ]
        }
      ]
    },
    {
      "cell_type": "code",
      "source": [
        "import pandas as pd\n",
        "import matplotlib.pyplot as plt\n",
        "\n",
        "# Assuming your DataFrame is named df\n",
        "df.hist(figsize=(20, 15), bins=30, edgecolor='black')\n",
        "plt.tight_layout()\n",
        "plt.show()"
      ],
      "metadata": {
        "colab": {
          "base_uri": "https://localhost:8080/",
          "height": 764
        },
        "id": "4dmdPdPxUTPw",
        "outputId": "def15b49-34a7-4eb1-b680-8a592eae91c7"
      },
      "execution_count": null,
      "outputs": [
        {
          "output_type": "display_data",
          "data": {
            "text/plain": [
              "<Figure size 2000x1500 with 16 Axes>"
            ],
            "image/png": "[encoded data removed]"
          },
          "metadata": {}
        }
      ]
    },
    {
      "cell_type": "markdown",
      "source": [
        "- We can see that all categorical values are handled and we have handled the missing values as well. Now in the histogram we can see that some columns have one-sided data distribution\n",
        "- Now lets look for outliers"
      ],
      "metadata": {
        "id": "Qnj3sjB6bI2C"
      }
    },
    {
      "cell_type": "code",
      "source": [
        "cols = [\n",
        "    'num_lab_procedures',\n",
        "    'num_medications',\n",
        "    'number_outpatient',\n",
        "    'number_emergency',\n",
        "    'number_inpatient',\n",
        "    'number_diagnoses'\n",
        "]\n",
        "\n",
        "for col in cols:\n",
        "    print(f\"Value counts for {col}:\")\n",
        "    print(df[col].value_counts().sort_index())\n",
        "    print('-' * 40)\n"
      ],
      "metadata": {
        "colab": {
          "base_uri": "https://localhost:8080/"
        },
        "id": "iXzF1rJwRozW",
        "outputId": "7e22d673-8d4c-4b57-d58e-d98306f4c120"
      },
      "execution_count": 31,
      "outputs": [
        {
          "output_type": "stream",
          "name": "stdout",
          "text": [
            "Value counts for num_lab_procedures:\n",
            "num_lab_procedures\n",
            "1      3208\n",
            "2      1101\n",
            "3       668\n",
            "4       378\n",
            "5       285\n",
            "       ... \n",
            "120       1\n",
            "121       1\n",
            "126       1\n",
            "129       1\n",
            "132       1\n",
            "Name: count, Length: 118, dtype: int64\n",
            "----------------------------------------\n",
            "Value counts for num_medications:\n",
            "num_medications\n",
            "1      262\n",
            "2      470\n",
            "3      900\n",
            "4     1417\n",
            "5     2017\n",
            "      ... \n",
            "72       3\n",
            "74       1\n",
            "75       2\n",
            "79       1\n",
            "81       1\n",
            "Name: count, Length: 75, dtype: int64\n",
            "----------------------------------------\n",
            "Value counts for number_outpatient:\n",
            "number_outpatient\n",
            "0     85024\n",
            "1      8547\n",
            "2      3594\n",
            "3      2042\n",
            "4      1099\n",
            "5       533\n",
            "6       303\n",
            "7       155\n",
            "8        98\n",
            "9        83\n",
            "10       57\n",
            "11       42\n",
            "12       30\n",
            "13       31\n",
            "14       28\n",
            "15       20\n",
            "16       15\n",
            "17        8\n",
            "18        5\n",
            "19        3\n",
            "20        7\n",
            "21        7\n",
            "22        5\n",
            "23        2\n",
            "24        3\n",
            "25        2\n",
            "26        2\n",
            "27        3\n",
            "28        1\n",
            "29        2\n",
            "33        2\n",
            "34        1\n",
            "35        2\n",
            "36        2\n",
            "37        1\n",
            "38        1\n",
            "39        1\n",
            "40        1\n",
            "42        1\n",
            "Name: count, dtype: int64\n",
            "----------------------------------------\n",
            "Value counts for number_emergency:\n",
            "number_emergency\n",
            "0     90380\n",
            "1      7677\n",
            "2      2042\n",
            "3       725\n",
            "4       374\n",
            "5       192\n",
            "6        94\n",
            "7        73\n",
            "8        50\n",
            "9        33\n",
            "10       34\n",
            "11       23\n",
            "12       10\n",
            "13       12\n",
            "14        3\n",
            "15        3\n",
            "16        5\n",
            "18        5\n",
            "19        4\n",
            "20        4\n",
            "21        2\n",
            "22        6\n",
            "24        1\n",
            "25        2\n",
            "28        1\n",
            "29        1\n",
            "37        1\n",
            "42        1\n",
            "46        1\n",
            "54        1\n",
            "63        1\n",
            "64        1\n",
            "76        1\n",
            "Name: count, dtype: int64\n",
            "----------------------------------------\n",
            "Value counts for number_inpatient:\n",
            "number_inpatient\n",
            "0     67627\n",
            "1     19521\n",
            "2      7566\n",
            "3      3411\n",
            "4      1622\n",
            "5       812\n",
            "6       480\n",
            "7       268\n",
            "8       151\n",
            "9       111\n",
            "10       61\n",
            "11       49\n",
            "12       34\n",
            "13       20\n",
            "14       10\n",
            "15        9\n",
            "16        6\n",
            "17        1\n",
            "18        1\n",
            "19        2\n",
            "21        1\n",
            "Name: count, dtype: int64\n",
            "----------------------------------------\n",
            "Value counts for number_diagnoses:\n",
            "number_diagnoses\n",
            "1       219\n",
            "2      1023\n",
            "3      2835\n",
            "4      5536\n",
            "5     11392\n",
            "6     10161\n",
            "7     10393\n",
            "8     10616\n",
            "9     49473\n",
            "10       17\n",
            "11       11\n",
            "12        9\n",
            "13       16\n",
            "14        7\n",
            "15       10\n",
            "16       45\n",
            "Name: count, dtype: int64\n",
            "----------------------------------------\n"
          ]
        }
      ]
    },
    {
      "cell_type": "markdown",
      "source": [
        "- These were the extremely distributed columns seen from the histograms.\n",
        "- The values doesnt seem impractical. So we don't need to handle them"
      ],
      "metadata": {
        "id": "BfRLA6tlURx5"
      }
    },
    {
      "cell_type": "markdown",
      "source": [
        "### Encoding"
      ],
      "metadata": {
        "id": "axHKRxj6VDhZ"
      }
    },
    {
      "cell_type": "markdown",
      "source": [
        "- I chose one-hot encoding to transform categorical variables into a numerical format that machine learning models, including XGBoost, can interpret effectively.\n",
        "- One-hot encoding creates separate binary columns for each category, ensuring that the model does not assume any false order or hierarchy among categories—an issue that can occur with label encoding"
      ],
      "metadata": {
        "id": "7yqwJ7MWbRYC"
      }
    },
    {
      "cell_type": "code",
      "source": [
        "# List of columns to one-hot encode\n",
        "one_hot_cols = [\n",
        "    'gender', 'race',\n",
        "    'metformin', 'repaglinide', 'nateglinide', 'chlorpropamide',\n",
        "    'glimepiride', 'acetohexamide', 'glipizide', 'glyburide', 'tolbutamide',\n",
        "    'pioglitazone', 'rosiglitazone', 'acarbose', 'miglitol', 'troglitazone',\n",
        "    'tolazamide', 'examide', 'citoglipton', 'insulin',\n",
        "    'glyburide-metformin', 'glipizide-metformin',\n",
        "    'glimepiride-pioglitazone', 'metformin-rosiglitazone',\n",
        "    'metformin-pioglitazone', 'change', 'diabetesMed'\n",
        "]\n",
        "\n",
        "df_encoded = pd.get_dummies(df, columns=one_hot_cols, drop_first=True)"
      ],
      "metadata": {
        "id": "-_QDDbtVSYbt"
      },
      "execution_count": 32,
      "outputs": []
    },
    {
      "cell_type": "code",
      "source": [
        "df_encoded.columns"
      ],
      "metadata": {
        "colab": {
          "base_uri": "https://localhost:8080/"
        },
        "id": "e5x7BIlFaf0G",
        "outputId": "a813ca5c-1160-4995-b0e0-d733b98dc93d"
      },
      "execution_count": 33,
      "outputs": [
        {
          "output_type": "execute_result",
          "data": {
            "text/plain": [
              "Index(['encounter_id', 'patient_nbr', 'age', 'admission_type_id',\n",
              "       'discharge_disposition_id', 'admission_source_id', 'time_in_hospital',\n",
              "       'payer_code', 'medical_specialty', 'num_lab_procedures',\n",
              "       'num_procedures', 'num_medications', 'number_outpatient',\n",
              "       'number_emergency', 'number_inpatient', 'number_diagnoses',\n",
              "       'max_glu_serum', 'A1Cresult', 'readmitted', 'diag_1_group',\n",
              "       'diag_2_group', 'diag_3_group', 'gender_Male', 'race_Asian',\n",
              "       'race_Caucasian', 'race_Hispanic', 'race_Other', 'race_Unknown',\n",
              "       'metformin_No', 'metformin_Steady', 'metformin_Up', 'repaglinide_No',\n",
              "       'repaglinide_Steady', 'repaglinide_Up', 'nateglinide_No',\n",
              "       'nateglinide_Steady', 'nateglinide_Up', 'chlorpropamide_No',\n",
              "       'chlorpropamide_Steady', 'chlorpropamide_Up', 'glimepiride_No',\n",
              "       'glimepiride_Steady', 'glimepiride_Up', 'acetohexamide_Steady',\n",
              "       'glipizide_No', 'glipizide_Steady', 'glipizide_Up', 'glyburide_No',\n",
              "       'glyburide_Steady', 'glyburide_Up', 'tolbutamide_Steady',\n",
              "       'pioglitazone_No', 'pioglitazone_Steady', 'pioglitazone_Up',\n",
              "       'rosiglitazone_No', 'rosiglitazone_Steady', 'rosiglitazone_Up',\n",
              "       'acarbose_No', 'acarbose_Steady', 'acarbose_Up', 'miglitol_No',\n",
              "       'miglitol_Steady', 'miglitol_Up', 'troglitazone_Steady',\n",
              "       'tolazamide_Steady', 'tolazamide_Up', 'insulin_No', 'insulin_Steady',\n",
              "       'insulin_Up', 'glyburide-metformin_No', 'glyburide-metformin_Steady',\n",
              "       'glyburide-metformin_Up', 'glipizide-metformin_Steady',\n",
              "       'glimepiride-pioglitazone_Steady', 'metformin-rosiglitazone_Steady',\n",
              "       'metformin-pioglitazone_Steady', 'change_No', 'diabetesMed_Yes'],\n",
              "      dtype='object')"
            ]
          },
          "metadata": {},
          "execution_count": 33
        }
      ]
    },
    {
      "cell_type": "code",
      "source": [
        "df_encoded.shape"
      ],
      "metadata": {
        "colab": {
          "base_uri": "https://localhost:8080/"
        },
        "id": "kJYQQY1-aicp",
        "outputId": "e80be185-9f2a-47af-b3bf-9e02646f291f"
      },
      "execution_count": 34,
      "outputs": [
        {
          "output_type": "execute_result",
          "data": {
            "text/plain": [
              "(101763, 78)"
            ]
          },
          "metadata": {},
          "execution_count": 34
        }
      ]
    },
    {
      "cell_type": "markdown",
      "source": [
        "#### Encoding disease groups"
      ],
      "metadata": {
        "id": "1eXwr7MeeNPa"
      }
    },
    {
      "cell_type": "markdown",
      "source": [
        "- I chose ordinal encoding for the diag_1_group, diag_2_group, and diag_3_group columns because these features represent grouped diagnosis codes that have a meaningful, structured order"
      ],
      "metadata": {
        "id": "WaUm9W7Pb7yi"
      }
    },
    {
      "cell_type": "code",
      "source": [
        "from sklearn.preprocessing import OrdinalEncoder\n",
        "\n",
        "# List of columns to encode\n",
        "ordinal_cols = ['diag_1_group', 'diag_2_group', 'diag_3_group']\n",
        "\n",
        "# Apply ordinal encoding\n",
        "encoder = OrdinalEncoder()\n",
        "df_encoded[ordinal_cols] = encoder.fit_transform(df[ordinal_cols])"
      ],
      "metadata": {
        "id": "3yB5gYtrasqV"
      },
      "execution_count": 35,
      "outputs": []
    },
    {
      "cell_type": "code",
      "source": [
        "# To see the mapping\n",
        "for col, categories in zip(ordinal_cols, encoder.categories_):\n",
        "    print(f\"{col}: {dict(zip(categories, range(len(categories))))}\")"
      ],
      "metadata": {
        "colab": {
          "base_uri": "https://localhost:8080/"
        },
        "id": "UO9kluo8eSpo",
        "outputId": "c78a3371-7bb2-4ab5-8b9f-fcc1e1ebac0f"
      },
      "execution_count": 36,
      "outputs": [
        {
          "output_type": "stream",
          "name": "stdout",
          "text": [
            "diag_1_group: {'Blood': 0, 'Circulatory': 1, 'Congenital': 2, 'Digestive': 3, 'Endocrine': 4, 'Genitourinary': 5, 'Infectious': 6, 'Injury': 7, 'Mental': 8, 'Musculoskeletal': 9, 'Neoplasms': 10, 'Nervous': 11, 'Pregnancy': 12, 'Respiratory': 13, 'Skin': 14, 'Supplementary': 15, 'Symptoms': 16, 'Unknown': 17}\n",
            "diag_2_group: {'Blood': 0, 'Circulatory': 1, 'Congenital': 2, 'Digestive': 3, 'Endocrine': 4, 'Genitourinary': 5, 'Infectious': 6, 'Injury': 7, 'Mental': 8, 'Musculoskeletal': 9, 'Neoplasms': 10, 'Nervous': 11, 'Pregnancy': 12, 'Respiratory': 13, 'Skin': 14, 'Supplementary': 15, 'Symptoms': 16, 'Unknown': 17}\n",
            "diag_3_group: {'Blood': 0, 'Circulatory': 1, 'Congenital': 2, 'Digestive': 3, 'Endocrine': 4, 'Genitourinary': 5, 'Infectious': 6, 'Injury': 7, 'Mental': 8, 'Musculoskeletal': 9, 'Neoplasms': 10, 'Nervous': 11, 'Pregnancy': 12, 'Respiratory': 13, 'Skin': 14, 'Supplementary': 15, 'Symptoms': 16, 'Unknown': 17}\n"
          ]
        }
      ]
    },
    {
      "cell_type": "markdown",
      "source": [
        "#### Encoding Age"
      ],
      "metadata": {
        "id": "paT8T3b5ehTZ"
      }
    },
    {
      "cell_type": "code",
      "source": [
        "age_order = ['[0-10)', '[10-20)', '[20-30)', '[30-40)', '[40-50)', '[50-60)',\n",
        "             '[60-70)', '[70-80)', '[80-90)', '[90-100)']\n",
        "\n",
        "df_encoded['age_ord'] = df_encoded['age'].map({age: idx for idx, age in enumerate(age_order)})"
      ],
      "metadata": {
        "id": "aTm7O_v2ebKg"
      },
      "execution_count": 37,
      "outputs": []
    },
    {
      "cell_type": "code",
      "source": [
        "glu_order = {'No Information': 0, 'Norm': 1, '>200': 2, '>300': 3}\n",
        "a1c_order = {'No Information': 0, 'Norm': 1, '>7': 2, '>8': 3}\n",
        "\n",
        "df_encoded['max_glu_serum_ord'] = df_encoded['max_glu_serum'].map(glu_order)\n",
        "df_encoded['A1Cresult_ord'] = df_encoded['A1Cresult'].map(a1c_order)"
      ],
      "metadata": {
        "id": "2JNGU5pgekoC"
      },
      "execution_count": 38,
      "outputs": []
    },
    {
      "cell_type": "markdown",
      "source": [
        "- Frequency Encoding is recommended for high-cardinality categorical columns."
      ],
      "metadata": {
        "id": "C_TFrITxe3lJ"
      }
    },
    {
      "cell_type": "code",
      "source": [
        "df_encoded['payer_code_freq'] = df_encoded['payer_code'].map(df_encoded['payer_code'].value_counts(normalize=True))\n",
        "df_encoded['medical_specialty_freq'] = df_encoded['medical_specialty'].map(df_encoded['medical_specialty'].value_counts(normalize=True))"
      ],
      "metadata": {
        "id": "SwfGo6oHeo8G"
      },
      "execution_count": 39,
      "outputs": []
    },
    {
      "cell_type": "code",
      "source": [
        "df_encoded.shape"
      ],
      "metadata": {
        "colab": {
          "base_uri": "https://localhost:8080/"
        },
        "id": "9eAnnxp6e7QR",
        "outputId": "fdab8703-fef6-47cb-b262-96f2e995acbd"
      },
      "execution_count": 40,
      "outputs": [
        {
          "output_type": "execute_result",
          "data": {
            "text/plain": [
              "(101763, 83)"
            ]
          },
          "metadata": {},
          "execution_count": 40
        }
      ]
    },
    {
      "cell_type": "code",
      "source": [
        "df_encoded.columns"
      ],
      "metadata": {
        "colab": {
          "base_uri": "https://localhost:8080/"
        },
        "id": "cplFtYGYfe-6",
        "outputId": "f5303196-ac5a-4cca-f8e2-d7ac9e1dc21d"
      },
      "execution_count": 41,
      "outputs": [
        {
          "output_type": "execute_result",
          "data": {
            "text/plain": [
              "Index(['encounter_id', 'patient_nbr', 'age', 'admission_type_id',\n",
              "       'discharge_disposition_id', 'admission_source_id', 'time_in_hospital',\n",
              "       'payer_code', 'medical_specialty', 'num_lab_procedures',\n",
              "       'num_procedures', 'num_medications', 'number_outpatient',\n",
              "       'number_emergency', 'number_inpatient', 'number_diagnoses',\n",
              "       'max_glu_serum', 'A1Cresult', 'readmitted', 'diag_1_group',\n",
              "       'diag_2_group', 'diag_3_group', 'gender_Male', 'race_Asian',\n",
              "       'race_Caucasian', 'race_Hispanic', 'race_Other', 'race_Unknown',\n",
              "       'metformin_No', 'metformin_Steady', 'metformin_Up', 'repaglinide_No',\n",
              "       'repaglinide_Steady', 'repaglinide_Up', 'nateglinide_No',\n",
              "       'nateglinide_Steady', 'nateglinide_Up', 'chlorpropamide_No',\n",
              "       'chlorpropamide_Steady', 'chlorpropamide_Up', 'glimepiride_No',\n",
              "       'glimepiride_Steady', 'glimepiride_Up', 'acetohexamide_Steady',\n",
              "       'glipizide_No', 'glipizide_Steady', 'glipizide_Up', 'glyburide_No',\n",
              "       'glyburide_Steady', 'glyburide_Up', 'tolbutamide_Steady',\n",
              "       'pioglitazone_No', 'pioglitazone_Steady', 'pioglitazone_Up',\n",
              "       'rosiglitazone_No', 'rosiglitazone_Steady', 'rosiglitazone_Up',\n",
              "       'acarbose_No', 'acarbose_Steady', 'acarbose_Up', 'miglitol_No',\n",
              "       'miglitol_Steady', 'miglitol_Up', 'troglitazone_Steady',\n",
              "       'tolazamide_Steady', 'tolazamide_Up', 'insulin_No', 'insulin_Steady',\n",
              "       'insulin_Up', 'glyburide-metformin_No', 'glyburide-metformin_Steady',\n",
              "       'glyburide-metformin_Up', 'glipizide-metformin_Steady',\n",
              "       'glimepiride-pioglitazone_Steady', 'metformin-rosiglitazone_Steady',\n",
              "       'metformin-pioglitazone_Steady', 'change_No', 'diabetesMed_Yes',\n",
              "       'age_ord', 'max_glu_serum_ord', 'A1Cresult_ord', 'payer_code_freq',\n",
              "       'medical_specialty_freq'],\n",
              "      dtype='object')"
            ]
          },
          "metadata": {},
          "execution_count": 41
        }
      ]
    }
  ]
}